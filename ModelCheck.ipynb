{
 "cells": [
  {
   "cell_type": "code",
   "id": "initial_id",
   "metadata": {
    "collapsed": true,
    "ExecuteTime": {
     "end_time": "2025-06-24T13:37:48.441345Z",
     "start_time": "2025-06-24T13:37:46.737177Z"
    }
   },
   "source": [
    "import torch\n",
    "from Models.LargePNet import *\n",
    "from Models.LPTISR import *\n",
    "from Models.LargePNet3D import *\n",
    "from Models.Discriminator import MultiScaleDiscriminator"
   ],
   "outputs": [
    {
     "name": "stderr",
     "output_type": "stream",
     "text": [
      "E:\\Anaconda\\envs\\DLpytorch\\lib\\site-packages\\tqdm\\auto.py:21: TqdmWarning: IProgress not found. Please update jupyter and ipywidgets. See https://ipywidgets.readthedocs.io/en/stable/user_install.html\n",
      "  from .autonotebook import tqdm as notebook_tqdm\n",
      "E:\\Anaconda\\envs\\DLpytorch\\lib\\site-packages\\timm\\models\\layers\\__init__.py:48: FutureWarning: Importing from timm.models.layers is deprecated, please import via timm.layers\n",
      "  warnings.warn(f\"Importing from {__name__} is deprecated, please import via timm.layers\", FutureWarning)\n"
     ]
    }
   ],
   "execution_count": 1
  },
  {
   "metadata": {
    "ExecuteTime": {
     "end_time": "2025-06-24T13:37:50.126221Z",
     "start_time": "2025-06-24T13:37:49.444043Z"
    }
   },
   "cell_type": "code",
   "source": [
    "# Denoise, deblurring model\n",
    "x = torch.randn(1, 1, 512, 512).to('cuda')\n",
    "model = LargePNet(n_channels = 1,n_classes = 1,upscale = 1,lksize = 25,lkblocknum = 4).to('cuda')\n",
    "with torch.no_grad():\n",
    "    y = model(x)\n",
    "print(y.size())"
   ],
   "id": "fe1ee84edb0d01b4",
   "outputs": [
    {
     "name": "stdout",
     "output_type": "stream",
     "text": [
      "drop path: Identity()\n",
      "drop path: Identity()\n",
      "drop path: Identity()\n"
     ]
    },
    {
     "name": "stderr",
     "output_type": "stream",
     "text": [
      "E:\\Anaconda\\envs\\DLpytorch\\lib\\site-packages\\torch\\functional.py:504: UserWarning: torch.meshgrid: in an upcoming release, it will be required to pass the indexing argument. (Triggered internally at C:\\actions-runner\\_work\\pytorch\\pytorch\\builder\\windows\\pytorch\\aten\\src\\ATen\\native\\TensorShape.cpp:3484.)\n",
      "  return _VF.meshgrid(tensors, **kwargs)  # type: ignore[attr-defined]\n"
     ]
    },
    {
     "name": "stdout",
     "output_type": "stream",
     "text": [
      "torch.Size([1, 1, 512, 512])\n"
     ]
    }
   ],
   "execution_count": 2
  },
  {
   "metadata": {
    "ExecuteTime": {
     "end_time": "2025-06-24T13:37:51.428928Z",
     "start_time": "2025-06-24T13:37:51.199063Z"
    }
   },
   "cell_type": "code",
   "source": [
    "# Super-resolution model\n",
    "x = torch.randn(1, 1, 512, 512).to('cuda')\n",
    "model = LargePNet(n_channels = 1,n_classes = 1,upscale = 2,lksize = 15,lkblocknum = 4).to('cuda')\n",
    "with torch.no_grad():\n",
    "    y = model(x)\n",
    "print(y.size())"
   ],
   "id": "c5cfde7867acd5e0",
   "outputs": [
    {
     "name": "stdout",
     "output_type": "stream",
     "text": [
      "drop path: Identity()\n",
      "drop path: Identity()\n",
      "drop path: Identity()\n",
      "torch.Size([1, 1, 1024, 1024])\n"
     ]
    }
   ],
   "execution_count": 3
  },
  {
   "metadata": {
    "ExecuteTime": {
     "end_time": "2025-06-24T13:37:53.013217Z",
     "start_time": "2025-06-24T13:37:51.945179Z"
    }
   },
   "cell_type": "code",
   "source": [
    "# Video super-resolution (output the central frame)\n",
    "x = torch.randn(1, 7, 1, 512, 512).to('cuda')\n",
    "model = LPTISR(scale = 2, n_frames=7).to('cuda')\n",
    "with torch.no_grad():\n",
    "    y = model(x)\n",
    "print(y.size())"
   ],
   "id": "99abf970c62f6e1a",
   "outputs": [
    {
     "name": "stdout",
     "output_type": "stream",
     "text": [
      "drop path: Identity()\n",
      "drop path: Identity()\n",
      "drop path: Identity()\n"
     ]
    },
    {
     "name": "stderr",
     "output_type": "stream",
     "text": [
      "E:\\Anaconda\\envs\\DLpytorch\\lib\\site-packages\\torch\\nn\\functional.py:4236: UserWarning: Default grid_sample and affine_grid behavior has changed to align_corners=False since 1.3.0. Please specify align_corners=True if the old behavior is desired. See the documentation of grid_sample for details.\n",
      "  warnings.warn(\n"
     ]
    },
    {
     "name": "stdout",
     "output_type": "stream",
     "text": [
      "torch.Size([1, 7, 1024, 1024])\n"
     ]
    }
   ],
   "execution_count": 4
  },
  {
   "metadata": {
    "ExecuteTime": {
     "end_time": "2025-06-24T13:37:54.323270Z",
     "start_time": "2025-06-24T13:37:53.868518Z"
    }
   },
   "cell_type": "code",
   "source": [
    "# GAN-based Generative restoration\n",
    "x = torch.randn(1, 1, 512, 512).to('cuda')\n",
    "hr_shape = (512,512)\n",
    "netG = LargePNet(n_channels = 1,n_classes = 1,upscale = 1,lksize = 25,lkblocknum = 4).to('cuda')\n",
    "netD = MultiScaleDiscriminator(input_shape = (1, *hr_shape)).to('cuda')\n",
    "with torch.no_grad():\n",
    "    out_G = netG(x)\n",
    "    out_D = netD(x)\n",
    "print(out_G.size())\n",
    "print(out_D.size())"
   ],
   "id": "a23fad0d7a599906",
   "outputs": [
    {
     "name": "stdout",
     "output_type": "stream",
     "text": [
      "drop path: Identity()\n",
      "drop path: Identity()\n",
      "drop path: Identity()\n",
      "torch.Size([1, 1, 512, 512])\n",
      "torch.Size([1, 1, 64, 64])\n"
     ]
    }
   ],
   "execution_count": 5
  },
  {
   "metadata": {
    "ExecuteTime": {
     "end_time": "2025-06-24T13:37:58.096470Z",
     "start_time": "2025-06-24T13:37:56.709916Z"
    }
   },
   "cell_type": "code",
   "source": [
    "# Volumetric deblurring and background removal\n",
    "x = torch.randn(1, 1, 6, 512, 512).to('cuda')\n",
    "model = LargePNet3D(n_channels = 1, n_classes = 1,  lksize = 25, lkblocknum = 4).to('cuda')\n",
    "with torch.no_grad():\n",
    "    y = model(x)\n",
    "print(y.size())"
   ],
   "id": "8fcd23b6150df36",
   "outputs": [
    {
     "name": "stdout",
     "output_type": "stream",
     "text": [
      "torch.Size([1, 1, 6, 512, 512])\n"
     ]
    }
   ],
   "execution_count": 6
  },
  {
   "metadata": {},
   "cell_type": "code",
   "outputs": [],
   "execution_count": null,
   "source": "",
   "id": "29ee759eab96fbc0"
  }
 ],
 "metadata": {
  "kernelspec": {
   "display_name": "Python 3",
   "language": "python",
   "name": "python3"
  },
  "language_info": {
   "codemirror_mode": {
    "name": "ipython",
    "version": 2
   },
   "file_extension": ".py",
   "mimetype": "text/x-python",
   "name": "python",
   "nbconvert_exporter": "python",
   "pygments_lexer": "ipython2",
   "version": "2.7.6"
  }
 },
 "nbformat": 4,
 "nbformat_minor": 5
}
