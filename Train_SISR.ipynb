{
 "cells": [
  {
   "metadata": {
    "ExecuteTime": {
     "end_time": "2025-06-23T01:48:45.935092Z",
     "start_time": "2025-06-23T01:48:45.923084Z"
    }
   },
   "cell_type": "code",
   "source": [
    "import numpy as np\n",
    "import torch\n",
    "import torch.nn as nn\n",
    "import torch.utils.data as Data\n",
    "import os\n",
    "import cv2\n",
    "import glob\n",
    "import torch\n",
    "from Models.LargePNet import LargePNet\n",
    "import tifffile\n",
    "from Utils.Trainer32 import Trainer32\n",
    "import matplotlib.pyplot as plt\n",
    "from Utils.AppendLoad import *"
   ],
   "id": "64005b69-db04-4a0b-a4ef-3e45d00eced9",
   "outputs": [],
   "execution_count": 3
  },
  {
   "cell_type": "code",
   "id": "c5a13f16-4245-4940-bebe-97ad9c31c164",
   "metadata": {
    "ExecuteTime": {
     "end_time": "2025-06-23T01:48:49.734160Z",
     "start_time": "2025-06-23T01:48:46.834743Z"
    }
   },
   "source": [
    "# Load Raw .npz data. The provided npz file has expanded the original BioSR data by 4-fold through flipping and 90-degree rotating\n",
    "Data_dir = r'F:\\Opensource\\BioSR'\n",
    "loaded_data = np.load(Data_dir + '\\CCP.npz')\n",
    "X_train = loaded_data['X_train']  \n",
    "y_train = loaded_data['y_train']\n",
    "X_val = loaded_data['X_val']\n",
    "y_val = loaded_data['y_val']\n",
    "log_dir = Data_dir + r'\\logfile'\n",
    "if not os.path.exists(log_dir):\n",
    "    os.mkdir(log_dir)\n",
    "# Create training and validation data\n",
    "X_train = torch.tensor(X_train, dtype = torch.float32).unsqueeze(1)\n",
    "y_train = torch.tensor(y_train, dtype = torch.float32).unsqueeze(1)\n",
    "X_val = torch.tensor(X_val, dtype = torch.float32).unsqueeze(1)\n",
    "y_val = torch.tensor(y_val, dtype = torch.float32).unsqueeze(1)\n",
    "train_data = Data.TensorDataset(X_train,y_train)\n",
    "val_data = Data.TensorDataset(X_val,y_val)\n",
    "\n",
    "''' Another loading method: load .tif image file\n",
    "head_dir = r\"D:\\SISR_Full\\CCP\"\n",
    "Training_GT_path = head_dir + '\\\\' + r'GT\\*.tif'\n",
    "Training_Raw_path = head_dir + '\\\\' + r'Noisy\\*.tif'\n",
    "Val_GT_path = head_dir + '\\\\' + r'ValGT\\*.tif'\n",
    "Val_Raw_path = head_dir + '\\\\' + r'ValNoisy\\*.tif'\n",
    "\n",
    "X_train = AppendLoad(Training_Raw_path)\n",
    "y_train = AppendLoad(Training_GT_path)\n",
    "X_val = AppendLoad(Val_Raw_path)\n",
    "y_val = AppendLoad(Val_GT_path)\n",
    "\n",
    "print(\"X_train.shape\",X_train.shape)\n",
    "print(\"y_train.shape\",y_train.shape)\n",
    "print(\"X_val.shape\",X_val.shape)\n",
    "print(\"y_val.shape\",y_val.shape)\n",
    "\n",
    "train_data = Data.TensorDataset(X_train,y_train)\n",
    "val_data = Data.TensorDataset(X_val,y_val)\n",
    "'''"
   ],
   "outputs": [
    {
     "data": {
      "text/plain": [
       "' Another loading method: load .tif image file\\nhead_dir = r\"D:\\\\SISR_Full\\\\CCP\"\\nTraining_GT_path = head_dir + \\'\\\\\\' + r\\'GT\\\\*.tif\\'\\nTraining_Raw_path = head_dir + \\'\\\\\\' + r\\'Noisy\\\\*.tif\\'\\nVal_GT_path = head_dir + \\'\\\\\\' + r\\'ValGT\\\\*.tif\\'\\nVal_Raw_path = head_dir + \\'\\\\\\' + r\\'ValNoisy\\\\*.tif\\'\\n\\nX_train = AppendLoad(Training_Raw_path)\\ny_train = AppendLoad(Training_GT_path)\\nX_val = AppendLoad(Val_Raw_path)\\ny_val = AppendLoad(Val_GT_path)\\n\\nprint(\"X_train.shape\",X_train.shape)\\nprint(\"y_train.shape\",y_train.shape)\\nprint(\"X_val.shape\",X_val.shape)\\nprint(\"y_val.shape\",y_val.shape)\\n\\ntrain_data = Data.TensorDataset(X_train,y_train)\\nval_data = Data.TensorDataset(X_val,y_val)\\n'"
      ]
     },
     "execution_count": 4,
     "metadata": {},
     "output_type": "execute_result"
    }
   ],
   "execution_count": 4
  },
  {
   "cell_type": "code",
   "id": "9de67448-d1a1-4c09-ba2d-b90bbb352d72",
   "metadata": {
    "ExecuteTime": {
     "end_time": "2025-06-23T01:48:51.850633Z",
     "start_time": "2025-06-23T01:48:51.835106Z"
    }
   },
   "source": [
    "# 定义一个类来存储参数  \n",
    "class Options:  \n",
    "    def __init__(self):  \n",
    "        self.LR = 0.001\n",
    "        self.batchsize = 1 \n",
    "        self.epoch_num = 50 \n",
    "        self.MSE_weight = 1\n",
    "        self.MAE_weight = 0.05 \n",
    "        self.SSIM_weight = 0 \n",
    "        self.epoch_critic = 10 \n",
    "        self.useinit = 0\n",
    "        self.ModelType = 1   \n",
    "        self.StepLR = 1\n",
    "        self.ExpoLR = 0\n",
    "        self.val = 1\n",
    "        self.test = 0\n",
    "        self.use_dir =0\n",
    "        self.use_norm = 1\n",
    "        self.test_data_dir = ''\n",
    "        self.innerpoint = []\n",
    "        self.instanceimage = ''\n",
    "opt = Options()"
   ],
   "outputs": [],
   "execution_count": 5
  },
  {
   "cell_type": "code",
   "id": "1d0c7e5b-84db-4366-8d03-09d114967602",
   "metadata": {
    "ExecuteTime": {
     "end_time": "2025-06-23T01:52:50.269381Z",
     "start_time": "2025-06-23T01:48:53.015332Z"
    }
   },
   "source": [
    "model = LargePNet(1,1,2,15,4)\n",
    "save_path = Data_dir +r'\\logfile\\LargePNet'\n",
    "Trainer32(model, train_data, val_data, save_path, opt)"
   ],
   "outputs": [
    {
     "name": "stdout",
     "output_type": "stream",
     "text": [
      "drop path: Identity()\n",
      "drop path: Identity()\n",
      "drop path: Identity()\n"
     ]
    },
    {
     "name": "stderr",
     "output_type": "stream",
     "text": [
      "C:\\Users\\Dell\\.conda\\envs\\DL\\lib\\site-packages\\torch\\functional.py:504: UserWarning: torch.meshgrid: in an upcoming release, it will be required to pass the indexing argument. (Triggered internally at C:\\cb\\pytorch_1000000000000\\work\\aten\\src\\ATen\\native\\TensorShape.cpp:3484.)\n",
      "  return _VF.meshgrid(tensors, **kwargs)  # type: ignore[attr-defined]\n"
     ]
    },
    {
     "name": "stdout",
     "output_type": "stream",
     "text": [
      "0\n"
     ]
    },
    {
     "name": "stderr",
     "output_type": "stream",
     "text": [
      "Training epoch: 100%|██████████| 1188/1188 [03:35<00:00,  5.50it/s, Epoch: 1, Loss: 0.000615547490427348] \n"
     ]
    },
    {
     "name": "stdout",
     "output_type": "stream",
     "text": [
      "Best ValPSNR: 35.289364\n",
      "Epoch: 0, Train Loss: 0.008698, Train MSE: 0.006082, Train MAE: 0.052310\n",
      "Epoch: 0, Val Loss: 0.000304, Val MSE: 0.000304, Val MAE: 0.007786, Val SSIM: 0.417429\n",
      "1\n"
     ]
    },
    {
     "name": "stderr",
     "output_type": "stream",
     "text": [
      "Training epoch:   5%|▌         | 65/1188 [00:13<03:47,  4.93it/s, Epoch: 2, Loss: 0.0005772140175797642]\n"
     ]
    },
    {
     "ename": "KeyboardInterrupt",
     "evalue": "",
     "output_type": "error",
     "traceback": [
      "\u001B[1;31m---------------------------------------------------------------------------\u001B[0m",
      "\u001B[1;31mKeyboardInterrupt\u001B[0m                         Traceback (most recent call last)",
      "Cell \u001B[1;32mIn[6], line 3\u001B[0m\n\u001B[0;32m      1\u001B[0m model \u001B[38;5;241m=\u001B[39m LargePNet(\u001B[38;5;241m1\u001B[39m,\u001B[38;5;241m1\u001B[39m,\u001B[38;5;241m2\u001B[39m,\u001B[38;5;241m15\u001B[39m,\u001B[38;5;241m4\u001B[39m)\n\u001B[0;32m      2\u001B[0m save_path \u001B[38;5;241m=\u001B[39m Data_dir \u001B[38;5;241m+\u001B[39m\u001B[38;5;124mr\u001B[39m\u001B[38;5;124m'\u001B[39m\u001B[38;5;124m\\\u001B[39m\u001B[38;5;124mlogfile\u001B[39m\u001B[38;5;124m\\\u001B[39m\u001B[38;5;124mLargePNet\u001B[39m\u001B[38;5;124m'\u001B[39m\n\u001B[1;32m----> 3\u001B[0m \u001B[43mTrainer32\u001B[49m\u001B[43m(\u001B[49m\u001B[43mmodel\u001B[49m\u001B[43m,\u001B[49m\u001B[43m \u001B[49m\u001B[43mtrain_data\u001B[49m\u001B[43m,\u001B[49m\u001B[43m \u001B[49m\u001B[43mval_data\u001B[49m\u001B[43m,\u001B[49m\u001B[43m \u001B[49m\u001B[43msave_path\u001B[49m\u001B[43m,\u001B[49m\u001B[43m \u001B[49m\u001B[43mopt\u001B[49m\u001B[43m)\u001B[49m\n",
      "File \u001B[1;32m~\\Desktop\\SourceCode\\Utils\\Trainer32.py:154\u001B[0m, in \u001B[0;36mTrainer32\u001B[1;34m(model, train_data, val_data, save_path, opt)\u001B[0m\n\u001B[0;32m    152\u001B[0m loss\u001B[38;5;241m.\u001B[39mbackward()\n\u001B[0;32m    153\u001B[0m optimizer\u001B[38;5;241m.\u001B[39mstep()\n\u001B[1;32m--> 154\u001B[0m train_loader\u001B[38;5;241m.\u001B[39mset_postfix_str(\u001B[38;5;124mf\u001B[39m\u001B[38;5;124m\"\u001B[39m\u001B[38;5;124mEpoch: \u001B[39m\u001B[38;5;132;01m{\u001B[39;00mepoch\u001B[38;5;250m \u001B[39m\u001B[38;5;241m+\u001B[39m\u001B[38;5;250m \u001B[39m\u001B[38;5;241m1\u001B[39m\u001B[38;5;132;01m}\u001B[39;00m\u001B[38;5;124m, Loss: \u001B[39m\u001B[38;5;132;01m{\u001B[39;00mscaler\u001B[38;5;241m.\u001B[39mscale(loss)\u001B[38;5;241m.\u001B[39mitem()\u001B[38;5;250m \u001B[39m\u001B[38;5;241m/\u001B[39m\u001B[38;5;250m \u001B[39m\u001B[38;5;241m65535\u001B[39m\u001B[38;5;132;01m}\u001B[39;00m\u001B[38;5;124m\"\u001B[39m)\n\u001B[0;32m    155\u001B[0m MSE_train_epoch \u001B[38;5;241m+\u001B[39m\u001B[38;5;241m=\u001B[39m MSEtrain \u001B[38;5;241m*\u001B[39m b_x\u001B[38;5;241m.\u001B[39msize(\u001B[38;5;241m0\u001B[39m)\n\u001B[0;32m    156\u001B[0m MAE_train_epoch \u001B[38;5;241m+\u001B[39m\u001B[38;5;241m=\u001B[39m MAEtrain \u001B[38;5;241m*\u001B[39m b_x\u001B[38;5;241m.\u001B[39msize(\u001B[38;5;241m0\u001B[39m)\n",
      "\u001B[1;31mKeyboardInterrupt\u001B[0m: "
     ]
    }
   ],
   "execution_count": 6
  },
  {
   "metadata": {},
   "cell_type": "code",
   "outputs": [],
   "execution_count": null,
   "source": "",
   "id": "61636dcccb2425dc"
  }
 ],
 "metadata": {
  "kernelspec": {
   "display_name": "DL",
   "language": "python",
   "name": "dl"
  },
  "language_info": {
   "codemirror_mode": {
    "name": "ipython",
    "version": 3
   },
   "file_extension": ".py",
   "mimetype": "text/x-python",
   "name": "python",
   "nbconvert_exporter": "python",
   "pygments_lexer": "ipython3",
   "version": "3.10.13"
  }
 },
 "nbformat": 4,
 "nbformat_minor": 5
}
