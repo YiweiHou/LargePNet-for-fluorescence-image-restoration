{
 "cells": [
  {
   "metadata": {
    "ExecuteTime": {
     "end_time": "2025-06-24T04:15:12.441254Z",
     "start_time": "2025-06-24T04:15:10.592106Z"
    }
   },
   "cell_type": "code",
   "source": [
    "import torch\n",
    "import tifffile\n",
    "import glob\n",
    "import numpy as np\n",
    "from tqdm import tqdm  \n",
    "import os\n",
    "from Models.LargePNet import LargePNet"
   ],
   "id": "853e1c9f",
   "outputs": [
    {
     "name": "stderr",
     "output_type": "stream",
     "text": [
      "C:\\Users\\Dell\\.conda\\envs\\DL\\lib\\site-packages\\tqdm\\auto.py:21: TqdmWarning: IProgress not found. Please update jupyter and ipywidgets. See https://ipywidgets.readthedocs.io/en/stable/user_install.html\n",
      "  from .autonotebook import tqdm as notebook_tqdm\n"
     ]
    }
   ],
   "execution_count": 1
  },
  {
   "metadata": {
    "ExecuteTime": {
     "end_time": "2025-06-24T04:15:19.845506Z",
     "start_time": "2025-06-24T04:15:19.720856Z"
    }
   },
   "cell_type": "code",
   "source": [
    "# Directory of the testing data\n",
    "head_dir = r\"F:\\Datasets\\SMLM\\Testing\"\n",
    "Raw_path = head_dir + r'\\TestNoisy'\n",
    "all_imgs_path = glob.glob(Raw_path + '\\\\'+'*.tif')\n",
    "num = len(all_imgs_path)\n",
    "Endstr ='.tif'\n",
    "device = 'cuda'\n",
    "save_path = head_dir + '\\\\'+'output'\n",
    "if not os.path.exists(save_path):  \n",
    "    os.mkdir(save_path)"
   ],
   "id": "8c4cf8ed",
   "outputs": [],
   "execution_count": 2
  },
  {
   "metadata": {
    "ExecuteTime": {
     "end_time": "2025-06-24T04:16:35.610718Z",
     "start_time": "2025-06-24T04:15:37.959894Z"
    }
   },
   "cell_type": "code",
   "source": [
    "model_label = r'LargePGAN'\n",
    "model =  LargePNet(1, 1, 1, 25, 4)\n",
    "# Users need to specify the model dir\n",
    "model.load_state_dict(torch.load(r'TrainedModels\\SMLM\\best_model.pth'))\n",
    "model_label = model_label\n",
    "save_path = head_dir + '\\\\'+'output'+'\\\\'+model_label\n",
    "if not os.path.exists(save_path):  \n",
    "    os.mkdir(save_path)\n",
    "\n",
    "pbar = tqdm(total=num, desc=\"Processing images\")\n",
    "for i in range(num):     \n",
    "    numstr = np.array2string(np.array(i+1))\n",
    "    I = tifffile.imread(Raw_path+ '\\\\' +numstr+Endstr)\n",
    "    I = np.array(I)\n",
    "    #I = I/I.max()\n",
    "    I = (I - I.min()) / (I.max() - I.min())\n",
    "    im = torch.tensor(I, dtype=torch.float32)\n",
    "    im = im.unsqueeze(0).unsqueeze(0)\n",
    "    imnose = np.transpose(im.data.numpy(),(0,2,3,1))\n",
    "    imnose = imnose[0,...]\n",
    "    model = model.to(device)\n",
    "    with torch.no_grad():\n",
    "        model.eval()\n",
    "        #with autocast():\n",
    "        output = model(im.to(device))\n",
    "        output = output.to('cpu')\n",
    "        output = output.detach()\n",
    "        imde = np.transpose(output.data.numpy(),(0,2,3,1))\n",
    "        imdeHybrid = imde[0,...]  \n",
    "        imde = imdeHybrid\n",
    "        imde = (2**16-1)*imde\n",
    "        #imde = (2**16-1)*(imde-imde.min())/(imde.max()-imde.min())\n",
    "        imde = imde.astype(np.uint16)\n",
    "        tifffile.imwrite(save_path+ '\\\\' +numstr+model_label+Endstr,imde)\n",
    "    pbar.update(1)\n",
    "pbar.close()"
   ],
   "id": "e3641e6c465a8964",
   "outputs": [
    {
     "name": "stdout",
     "output_type": "stream",
     "text": [
      "drop path: Identity()\n",
      "drop path: Identity()\n",
      "drop path: Identity()\n"
     ]
    },
    {
     "name": "stderr",
     "output_type": "stream",
     "text": [
      "C:\\Users\\Dell\\.conda\\envs\\DL\\lib\\site-packages\\torch\\functional.py:504: UserWarning: torch.meshgrid: in an upcoming release, it will be required to pass the indexing argument. (Triggered internally at C:\\cb\\pytorch_1000000000000\\work\\aten\\src\\ATen\\native\\TensorShape.cpp:3484.)\n",
      "  return _VF.meshgrid(tensors, **kwargs)  # type: ignore[attr-defined]\n",
      "Processing images: 100%|██████████| 97/97 [00:57<00:00,  1.70it/s]\n"
     ]
    }
   ],
   "execution_count": 3
  },
  {
   "metadata": {},
   "cell_type": "code",
   "outputs": [],
   "execution_count": null,
   "source": "",
   "id": "bb6e3f31bca0bc49"
  }
 ],
 "metadata": {
  "kernelspec": {
   "display_name": "DL",
   "language": "python",
   "name": "dl"
  },
  "language_info": {
   "codemirror_mode": {
    "name": "ipython",
    "version": 3
   },
   "file_extension": ".py",
   "mimetype": "text/x-python",
   "name": "python",
   "nbconvert_exporter": "python",
   "pygments_lexer": "ipython3",
   "version": "3.10.13"
  }
 },
 "nbformat": 4,
 "nbformat_minor": 5
}
