{
 "cells": [
  {
   "metadata": {
    "ExecuteTime": {
     "end_time": "2025-06-24T02:04:54.459885Z",
     "start_time": "2025-06-24T02:04:54.455884Z"
    }
   },
   "cell_type": "code",
   "source": [
    "import torch\n",
    "import tifffile\n",
    "import glob\n",
    "import numpy as np\n",
    "import matplotlib.pyplot as plt\n",
    "from tqdm import tqdm  \n",
    "import os\n",
    "from Models.LargePNet import LargePNet\n",
    "from torch.cuda.amp import GradScaler, autocast"
   ],
   "id": "853e1c9f",
   "outputs": [],
   "execution_count": 17
  },
  {
   "metadata": {
    "ExecuteTime": {
     "end_time": "2025-06-24T02:04:55.517101Z",
     "start_time": "2025-06-24T02:04:55.503024Z"
    }
   },
   "cell_type": "code",
   "source": [
    "# Directory of the testing data\n",
    "head_dir = r\"F:\\Opensource\\BioSR\\CCP\\Testing\"\n",
    "Raw_path = head_dir + r'\\TestNoisy'\n",
    "all_imgs_path = glob.glob(Raw_path + '\\\\'+'*.tif')\n",
    "num = len(all_imgs_path)\n",
    "Endstr ='.tif'\n",
    "device = 'cuda'\n",
    "save_path = head_dir + '\\\\'+'output'\n",
    "if not os.path.exists(save_path):  \n",
    "    os.mkdir(save_path)"
   ],
   "id": "8c4cf8ed",
   "outputs": [],
   "execution_count": 18
  },
  {
   "metadata": {
    "ExecuteTime": {
     "end_time": "2025-06-24T02:05:28.064691Z",
     "start_time": "2025-06-24T02:04:57.238685Z"
    }
   },
   "cell_type": "code",
   "source": [
    "model_label = r'LargePNet'\n",
    "model =  LargePNet(1, 1, 2, 15, 4)\n",
    "# Users need to specify the model dir\n",
    "model.load_state_dict(torch.load(r'TrainedModels\\BioSR\\CCP\\best_model.pth'))\n",
    "model_label = model_label\n",
    "save_path = head_dir + '\\\\'+'output'+'\\\\'+model_label\n",
    "if not os.path.exists(save_path):  \n",
    "    os.mkdir(save_path)\n",
    "\n",
    "pbar = tqdm(total=num, desc=\"Processing images\")\n",
    "for i in range(num):     \n",
    "    numstr = np.array2string(np.array(i+1))\n",
    "    I = tifffile.imread(Raw_path+ '\\\\' +numstr+Endstr)\n",
    "    I = np.array(I)\n",
    "    #I = I/I.max()\n",
    "    I = (I - I.min()) / (I.max() - I.min())\n",
    "    im = torch.tensor(I, dtype=torch.float32)\n",
    "    im = im.unsqueeze(0).unsqueeze(0)\n",
    "    imnose = np.transpose(im.data.numpy(),(0,2,3,1))\n",
    "    imnose = imnose[0,...]\n",
    "    model = model.to(device)\n",
    "    with torch.no_grad():\n",
    "        model.eval()\n",
    "        #with autocast():\n",
    "        output = model(im.to(device))\n",
    "        output = output.to('cpu')\n",
    "        output = output.detach()\n",
    "        imde = np.transpose(output.data.numpy(),(0,2,3,1))\n",
    "        imdeHybrid = imde[0,...]  \n",
    "        imde = imdeHybrid\n",
    "        imde = (2**16-1)*imde\n",
    "        #imde = (2**16-1)*(imde-imde.min())/(imde.max()-imde.min())\n",
    "        imde = imde.astype(np.uint16)\n",
    "        tifffile.imwrite(save_path+ '\\\\' +numstr+model_label+Endstr,imde)\n",
    "    pbar.update(1)\n",
    "pbar.close()"
   ],
   "id": "e3641e6c465a8964",
   "outputs": [
    {
     "name": "stdout",
     "output_type": "stream",
     "text": [
      "drop path: Identity()\n",
      "drop path: Identity()\n",
      "drop path: Identity()\n"
     ]
    },
    {
     "name": "stderr",
     "output_type": "stream",
     "text": [
      "Processing images: 100%|██████████| 135/135 [00:30<00:00,  4.49it/s]\n"
     ]
    }
   ],
   "execution_count": 19
  },
  {
   "metadata": {},
   "cell_type": "code",
   "outputs": [],
   "execution_count": null,
   "source": "",
   "id": "bb6e3f31bca0bc49"
  }
 ],
 "metadata": {
  "kernelspec": {
   "display_name": "DL",
   "language": "python",
   "name": "dl"
  },
  "language_info": {
   "codemirror_mode": {
    "name": "ipython",
    "version": 3
   },
   "file_extension": ".py",
   "mimetype": "text/x-python",
   "name": "python",
   "nbconvert_exporter": "python",
   "pygments_lexer": "ipython3",
   "version": "3.10.13"
  }
 },
 "nbformat": 4,
 "nbformat_minor": 5
}
