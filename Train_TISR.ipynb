{
 "cells": [
  {
   "metadata": {
    "ExecuteTime": {
     "end_time": "2025-06-23T06:23:19.856595Z",
     "start_time": "2025-06-23T06:23:17.141626Z"
    }
   },
   "cell_type": "code",
   "source": [
    "import numpy as np\n",
    "import torch\n",
    "import torch.nn as nn\n",
    "import torch.utils.data as Data\n",
    "import os\n",
    "import cv2\n",
    "import glob\n",
    "import torch\n",
    "from Models.LargePNet import *\n",
    "import tifffile\n",
    "from Utils.TrainerT16 import *\n",
    "import matplotlib.pyplot as plt\n",
    "from Utils.AppendLoad import *\n",
    "from Utils.DataAug2D import *\n",
    "import torchvision.models as models \n",
    "from Models.LPTISR import *"
   ],
   "id": "64005b69-db04-4a0b-a4ef-3e45d00eced9",
   "outputs": [
    {
     "name": "stderr",
     "output_type": "stream",
     "text": [
      "C:\\Users\\Dell\\.conda\\envs\\DL\\lib\\site-packages\\tqdm\\auto.py:21: TqdmWarning: IProgress not found. Please update jupyter and ipywidgets. See https://ipywidgets.readthedocs.io/en/stable/user_install.html\n",
      "  from .autonotebook import tqdm as notebook_tqdm\n"
     ]
    }
   ],
   "execution_count": 1
  },
  {
   "cell_type": "code",
   "id": "afeadf29-fcd3-45fc-8d88-48ee046d4e01",
   "metadata": {
    "ExecuteTime": {
     "end_time": "2025-06-23T06:23:19.872115Z",
     "start_time": "2025-06-23T06:23:19.863141Z"
    }
   },
   "source": [
    "class FeatureExtractor(nn.Module):\n",
    "    def __init__(self):\n",
    "        super(FeatureExtractor, self).__init__()\n",
    "        vgg19_model = vgg19(pretrained=True)\n",
    "        self.vgg19_54 = nn.Sequential(*list(vgg19_model.features.children())[:35])\n",
    "\n",
    "    def forward(self, img):\n",
    "        return self.vgg19_54(img)"
   ],
   "outputs": [],
   "execution_count": 2
  },
  {
   "cell_type": "code",
   "id": "c5a13f16-4245-4940-bebe-97ad9c31c164",
   "metadata": {
    "ExecuteTime": {
     "end_time": "2025-06-23T06:32:51.698332Z",
     "start_time": "2025-06-23T06:23:20.422452Z"
    }
   },
   "source": [
    "head_dir = r\"F:\\Opensource\\BioTISR\\Mito\\Training\\512data\"\n",
    "Training_GT_path = head_dir + '\\\\' + r'GT\\*.tif'\n",
    "Training_Raw_path = head_dir + '\\\\' + r'Noisy\\*.tif'\n",
    "Val_GT_path = head_dir + '\\\\' + r'ValGT\\*.tif'\n",
    "Val_Raw_path = head_dir + '\\\\' + r'ValNoisy\\*.tif'\n",
    "\n",
    "X_train = AppendLoad(Training_Raw_path)\n",
    "y_train = AppendLoad(Training_GT_path)\n",
    "X_val = AppendLoad(Val_Raw_path)\n",
    "y_val = AppendLoad(Val_GT_path)\n",
    "\n",
    "log_dir = head_dir + r'\\logfile'\n",
    "if not os.path.exists(log_dir):\n",
    "    os.mkdir(log_dir)\n",
    "    \n",
    "# print(\"X_train.shape\",X_train.shape)\n",
    "# print(\"y_train.shape\",y_train.shape)\n",
    "# print(\"X_val.shape\",X_val.shape)\n",
    "# print(\"y_val.shape\",y_val.shape)\n",
    "# \n",
    "# train_data = Data.TensorDataset(X_train,y_train)\n",
    "# val_data = Data.TensorDataset(X_val,y_val)"
   ],
   "outputs": [
    {
     "name": "stderr",
     "output_type": "stream",
     "text": [
      "100%|██████████| 480/480 [03:17<00:00,  2.43it/s]\n",
      "100%|██████████| 480/480 [05:24<00:00,  1.48it/s]\n",
      "100%|██████████| 24/24 [00:10<00:00,  2.38it/s]\n",
      "100%|██████████| 24/24 [00:20<00:00,  1.19it/s]\n"
     ]
    }
   ],
   "execution_count": 3
  },
  {
   "metadata": {
    "ExecuteTime": {
     "end_time": "2025-06-23T06:32:51.714332Z",
     "start_time": "2025-06-23T06:32:51.707334Z"
    }
   },
   "cell_type": "code",
   "source": "print(X_train.shape)",
   "id": "5d4aa196d428a847",
   "outputs": [
    {
     "name": "stdout",
     "output_type": "stream",
     "text": [
      "torch.Size([480, 1, 7, 512, 512])\n"
     ]
    }
   ],
   "execution_count": 4
  },
  {
   "metadata": {
    "ExecuteTime": {
     "end_time": "2025-06-23T06:32:56.624436Z",
     "start_time": "2025-06-23T06:32:56.595856Z"
    }
   },
   "cell_type": "code",
   "source": [
    "X_train = X_train.squeeze(1)\n",
    "y_train = y_train.squeeze(1)\n",
    "X_val = X_val.squeeze(1)\n",
    "y_val = y_val.squeeze(1)\n",
    "train_data = Data.TensorDataset(X_train,y_train)\n",
    "val_data = Data.TensorDataset(X_val,y_val)"
   ],
   "id": "57bb373061bc6c33",
   "outputs": [],
   "execution_count": 5
  },
  {
   "cell_type": "code",
   "id": "9de67448-d1a1-4c09-ba2d-b90bbb352d72",
   "metadata": {
    "ExecuteTime": {
     "end_time": "2025-06-23T06:32:56.640724Z",
     "start_time": "2025-06-23T06:32:56.628435Z"
    }
   },
   "source": [
    "# 定义一个类来存储参数  \n",
    "class Options:  \n",
    "    def __init__(self):  \n",
    "        self.LR = 0.001\n",
    "        self.batchsize = 1 \n",
    "        self.epoch_num = 50 \n",
    "        self.MSE_weight = 1\n",
    "        self.MAE_weight = 0.05 \n",
    "        self.SSIM_weight = 0 \n",
    "        self.epoch_critic = 10\n",
    "        self.useinit = 0\n",
    "        self.ModelType = 1   \n",
    "        self.StepLR = 1\n",
    "        self.ExpoLR = 0\n",
    "        self.val = 1\n",
    "        self.use_dir =0\n",
    "        self.use_norm = 1\n",
    "        self.val_data_dir = []\n",
    "        self.innerpoint = []\n",
    "        self.instanceimage = r''\n",
    "opt = Options()"
   ],
   "outputs": [],
   "execution_count": 6
  },
  {
   "metadata": {
    "ExecuteTime": {
     "end_time": "2025-06-23T07:10:12.619664Z",
     "start_time": "2025-06-23T06:32:59.146473Z"
    }
   },
   "cell_type": "code",
   "source": [
    "model = LPTISR(2,7,False)\n",
    "opt.LR = 0.001\n",
    "save_path = head_dir+r'\\logfile\\LPTISR'\n",
    "TrainerT16(model, train_data, val_data, save_path, opt)"
   ],
   "id": "c88d5b4766d0d22a",
   "outputs": [
    {
     "name": "stdout",
     "output_type": "stream",
     "text": [
      "drop path: Identity()\n",
      "drop path: Identity()\n",
      "drop path: Identity()\n"
     ]
    },
    {
     "name": "stderr",
     "output_type": "stream",
     "text": [
      "C:\\Users\\Dell\\.conda\\envs\\DL\\lib\\site-packages\\torch\\functional.py:504: UserWarning: torch.meshgrid: in an upcoming release, it will be required to pass the indexing argument. (Triggered internally at C:\\cb\\pytorch_1000000000000\\work\\aten\\src\\ATen\\native\\TensorShape.cpp:3484.)\n",
      "  return _VF.meshgrid(tensors, **kwargs)  # type: ignore[attr-defined]\n"
     ]
    },
    {
     "name": "stdout",
     "output_type": "stream",
     "text": [
      "0\n"
     ]
    },
    {
     "name": "stderr",
     "output_type": "stream",
     "text": [
      "Training epoch:   0%|          | 0/480 [00:00<?, ?it/s]C:\\Users\\Dell\\.conda\\envs\\DL\\lib\\site-packages\\torch\\nn\\functional.py:4236: UserWarning: Default grid_sample and affine_grid behavior has changed to align_corners=False since 1.3.0. Please specify align_corners=True if the old behavior is desired. See the documentation of grid_sample for details.\n",
      "  warnings.warn(\n",
      "Training epoch: 100%|██████████| 480/480 [19:46<00:00,  2.47s/it, Epoch: 1, Loss: 0.005364761125525721] \n"
     ]
    },
    {
     "name": "stdout",
     "output_type": "stream",
     "text": [
      "Best ValPSNR: 24.062500\n",
      "Epoch: 0, Train Loss: 0.040516, Train MSE: 0.032768, Train MAE: 0.154958\n",
      "Epoch: 0, Val Loss: 0.004768, Val MSE: 0.004768, Val MAE: 0.042267, Val SSIM: 0.000000\n",
      "1\n"
     ]
    },
    {
     "name": "stderr",
     "output_type": "stream",
     "text": [
      "Training epoch: 100%|██████████| 480/480 [10:16<00:00,  1.28s/it, Epoch: 2, Loss: 0.004717243171587701] \n"
     ]
    },
    {
     "name": "stdout",
     "output_type": "stream",
     "text": [
      "Best ValPSNR: 25.750000\n",
      "Epoch: 1, Train Loss: 0.007835, Train MSE: 0.004774, Train MAE: 0.061204\n",
      "Epoch: 1, Val Loss: 0.003054, Val MSE: 0.003054, Val MAE: 0.035980, Val SSIM: 0.000000\n",
      "2\n"
     ]
    },
    {
     "name": "stderr",
     "output_type": "stream",
     "text": [
      "Training epoch:  22%|██▏       | 106/480 [06:16<22:09,  3.55s/it, Epoch: 3, Loss: 0.0033074796104300185]\n"
     ]
    },
    {
     "ename": "KeyboardInterrupt",
     "evalue": "",
     "output_type": "error",
     "traceback": [
      "\u001B[1;31m---------------------------------------------------------------------------\u001B[0m",
      "\u001B[1;31mKeyboardInterrupt\u001B[0m                         Traceback (most recent call last)",
      "Cell \u001B[1;32mIn[7], line 4\u001B[0m\n\u001B[0;32m      2\u001B[0m opt\u001B[38;5;241m.\u001B[39mLR \u001B[38;5;241m=\u001B[39m \u001B[38;5;241m0.001\u001B[39m\n\u001B[0;32m      3\u001B[0m save_path \u001B[38;5;241m=\u001B[39m head_dir\u001B[38;5;241m+\u001B[39m\u001B[38;5;124mr\u001B[39m\u001B[38;5;124m'\u001B[39m\u001B[38;5;124m\\\u001B[39m\u001B[38;5;124mlogfile\u001B[39m\u001B[38;5;124m\\\u001B[39m\u001B[38;5;124mLPTISR\u001B[39m\u001B[38;5;124m'\u001B[39m\n\u001B[1;32m----> 4\u001B[0m \u001B[43mTrainerT16\u001B[49m\u001B[43m(\u001B[49m\u001B[43mmodel\u001B[49m\u001B[43m,\u001B[49m\u001B[43m \u001B[49m\u001B[43mtrain_data\u001B[49m\u001B[43m,\u001B[49m\u001B[43m \u001B[49m\u001B[43mval_data\u001B[49m\u001B[43m,\u001B[49m\u001B[43m \u001B[49m\u001B[43msave_path\u001B[49m\u001B[43m,\u001B[49m\u001B[43m \u001B[49m\u001B[43mopt\u001B[49m\u001B[43m)\u001B[49m\n",
      "File \u001B[1;32m~\\Desktop\\SourceCode\\Utils\\TrainerT16.py:137\u001B[0m, in \u001B[0;36mTrainerT16\u001B[1;34m(model, train_data, val_data, save_path, opt)\u001B[0m\n\u001B[0;32m    134\u001B[0m train_loader \u001B[38;5;241m=\u001B[39m tqdm(train_loader, desc\u001B[38;5;241m=\u001B[39m\u001B[38;5;124m\"\u001B[39m\u001B[38;5;124mTraining epoch\u001B[39m\u001B[38;5;124m\"\u001B[39m, total\u001B[38;5;241m=\u001B[39m\u001B[38;5;28mlen\u001B[39m(train_loader))\n\u001B[0;32m    135\u001B[0m \u001B[38;5;28;01mfor\u001B[39;00m step, (b_x, b_y) \u001B[38;5;129;01min\u001B[39;00m \u001B[38;5;28menumerate\u001B[39m(train_loader):\n\u001B[1;32m--> 137\u001B[0m     b_x \u001B[38;5;241m=\u001B[39m \u001B[43mb_x\u001B[49m\u001B[38;5;241;43m.\u001B[39;49m\u001B[43mto\u001B[49m\u001B[43m(\u001B[49m\u001B[43mdevice\u001B[49m\u001B[43m)\u001B[49m\n\u001B[0;32m    138\u001B[0m     b_y \u001B[38;5;241m=\u001B[39m b_y\u001B[38;5;241m.\u001B[39mto(device)\n\u001B[0;32m    140\u001B[0m     b, n_frames, h_lr, w_lr \u001B[38;5;241m=\u001B[39m b_x\u001B[38;5;241m.\u001B[39msize()\n",
      "\u001B[1;31mKeyboardInterrupt\u001B[0m: "
     ]
    }
   ],
   "execution_count": 7
  }
 ],
 "metadata": {
  "kernelspec": {
   "display_name": "DL",
   "language": "python",
   "name": "dl"
  },
  "language_info": {
   "codemirror_mode": {
    "name": "ipython",
    "version": 3
   },
   "file_extension": ".py",
   "mimetype": "text/x-python",
   "name": "python",
   "nbconvert_exporter": "python",
   "pygments_lexer": "ipython3",
   "version": "3.10.13"
  }
 },
 "nbformat": 4,
 "nbformat_minor": 5
}
