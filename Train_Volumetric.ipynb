{
 "cells": [
  {
   "cell_type": "code",
   "id": "8d24bc24-e960-447c-b111-11b2172f9097",
   "metadata": {
    "ExecuteTime": {
     "end_time": "2025-06-23T14:46:41.011116Z",
     "start_time": "2025-06-23T14:46:39.470503Z"
    }
   },
   "source": [
    "import numpy as np\n",
    "import torch\n",
    "import torch.nn as nn\n",
    "from torch.autograd import Variable\n",
    "import torch.utils.data as Data\n",
    "from Utils.Trainer3DAug16 import *\n",
    "from Models.LargePNet3D import *"
   ],
   "outputs": [],
   "execution_count": 1
  },
  {
   "cell_type": "code",
   "id": "46bf881c-4972-4a8d-b911-7a750d47bdbb",
   "metadata": {
    "ExecuteTime": {
     "end_time": "2025-06-23T14:53:46.482535Z",
     "start_time": "2025-06-23T14:53:44.851244Z"
    }
   },
   "source": [
    "head_dir = r'F:\\Datasets\\Debackground'\n",
    "loaded_data = np.load(head_dir + r'\\Data.npz')\n",
    "X_train=loaded_data['X_train']  \n",
    "y_train=loaded_data['y_train']\n",
    "X_val=loaded_data['X_val']\n",
    "y_val= loaded_data['y_val']\n",
    "X_train= np.transpose(X_train, (0,2,3,1))\n",
    "y_train=np.transpose(y_train, (0,2,3,1))\n",
    "X_val= np.transpose(X_val, (0,2,3,1))\n",
    "y_val= np.transpose(y_val, (0,2,3,1))\n",
    "print(X_train.shape)\n",
    "log_dir = head_dir + r'\\logfile'\n",
    "if not os.path.exists(log_dir):\n",
    "    os.mkdir(log_dir)"
   ],
   "outputs": [
    {
     "name": "stdout",
     "output_type": "stream",
     "text": [
      "(22, 1024, 1024, 24)\n"
     ]
    }
   ],
   "execution_count": 4
  },
  {
   "cell_type": "code",
   "id": "0d61f3e2-9486-4ac6-914d-742da8a429f8",
   "metadata": {
    "ExecuteTime": {
     "end_time": "2025-06-23T14:53:54.698621Z",
     "start_time": "2025-06-23T14:53:48.991150Z"
    }
   },
   "source": [
    "img_num = X_val.shape[0]\n",
    "wanted_num = 50\n",
    "X_val_expand = []\n",
    "y_val_expand = []\n",
    "count = 0\n",
    "for i in tqdm(range(img_num), desc=\"Processing images\"):  \n",
    "    raw = X_val[i,...]\n",
    "    gt = y_val[i,...]\n",
    "    for j in range (wanted_num//img_num):\n",
    "        Augraw, Auggt = DataAugZ(raw,gt,512,16)\n",
    "\n",
    "        X_val_expand.append(Augraw)\n",
    "        y_val_expand.append(Auggt)\n",
    "        count = count + 1\n",
    "X_val_expand = np.array(X_val_expand)\n",
    "y_val_expand = np.array(y_val_expand)\n",
    "X_val_expand = np.transpose(X_val_expand, (0,3,1,2))\n",
    "y_val_expand = np.transpose(y_val_expand, (0,3,1,2))\n",
    "print(X_val_expand.shape)"
   ],
   "outputs": [
    {
     "name": "stderr",
     "output_type": "stream",
     "text": [
      "Processing images: 100%|██████████| 3/3 [00:04<00:00,  1.52s/it]\n"
     ]
    },
    {
     "name": "stdout",
     "output_type": "stream",
     "text": [
      "(48, 16, 512, 512)\n"
     ]
    }
   ],
   "execution_count": 5
  },
  {
   "cell_type": "code",
   "id": "9465d4ae-5468-4912-9817-3e490eb17e59",
   "metadata": {
    "ExecuteTime": {
     "end_time": "2025-06-23T14:54:00.270613Z",
     "start_time": "2025-06-23T14:53:59.820397Z"
    }
   },
   "source": [
    "X_train = torch.tensor(X_train, dtype=torch.float16)\n",
    "y_train = torch.tensor(y_train, dtype=torch.float16)\n",
    "X_val = torch.tensor(X_val_expand, dtype=torch.float16).unsqueeze(1)\n",
    "y_val = torch.tensor(y_val_expand, dtype=torch.float16).unsqueeze(1)\n",
    "\n",
    "\n",
    "train_data = Data.TensorDataset(X_train,y_train)\n",
    "val_data = Data.TensorDataset(X_val,y_val)\n",
    "\n",
    "print(\"X_train.shape\",X_train.shape)\n",
    "print(\"y_train.shape\",y_train.shape)\n",
    "print(\"X_val.shape\",X_val.shape)\n",
    "print(\"y_val.shape\",y_val.shape)"
   ],
   "outputs": [
    {
     "name": "stdout",
     "output_type": "stream",
     "text": [
      "X_train.shape torch.Size([22, 1024, 1024, 24])\n",
      "y_train.shape torch.Size([22, 1024, 1024, 24])\n",
      "X_val.shape torch.Size([48, 1, 16, 512, 512])\n",
      "y_val.shape torch.Size([48, 1, 16, 512, 512])\n"
     ]
    }
   ],
   "execution_count": 6
  },
  {
   "cell_type": "code",
   "id": "2e3690e8-0405-4752-aa92-f3c142f3dcce",
   "metadata": {
    "ExecuteTime": {
     "end_time": "2025-06-23T14:54:06.110679Z",
     "start_time": "2025-06-23T14:54:06.100679Z"
    }
   },
   "source": [
    "# For MINet\n",
    "class Options:\n",
    "    def __init__(self):\n",
    "        self.LR = 0.001\n",
    "        self.batchsize = 1\n",
    "        self.epoch_num = 300\n",
    "        self.epoch_critic = 10\n",
    "        self.useinit = 0\n",
    "        self.MAE_weight = 0.05\n",
    "        self.SSIM_weight = 0  \n",
    "        self.StepLR = 0\n",
    "        self.SteLR = 0\n",
    "        self.ExpoLR = 0\n",
    "        self.minibatchnum = 50\n",
    "        self.patchsize = 512\n",
    "        self.patchsizez = 16\n",
    "        self.img_num = X_train.shape[0]\n",
    "        self.Epochcritic_Point = [50,200]\n",
    "        self.Epochcritic_Decay = [2,10]\n",
    "        self.val = 1\n",
    "opt = Options()"
   ],
   "outputs": [],
   "execution_count": 7
  },
  {
   "metadata": {
    "ExecuteTime": {
     "end_time": "2025-06-23T14:54:07.895326Z",
     "start_time": "2025-06-23T14:54:07.888326Z"
    }
   },
   "cell_type": "code",
   "source": "print(y_val.shape)",
   "id": "fbbc129ce64a11d3",
   "outputs": [
    {
     "name": "stdout",
     "output_type": "stream",
     "text": [
      "torch.Size([48, 1, 16, 512, 512])\n"
     ]
    }
   ],
   "execution_count": 8
  },
  {
   "metadata": {
    "ExecuteTime": {
     "end_time": "2025-06-23T14:54:09.235028Z",
     "start_time": "2025-06-23T14:54:08.805269Z"
    }
   },
   "cell_type": "code",
   "source": "print(y_val.max())",
   "id": "376b6d20197c9634",
   "outputs": [
    {
     "name": "stdout",
     "output_type": "stream",
     "text": [
      "tensor(1., dtype=torch.float16)\n"
     ]
    }
   ],
   "execution_count": 9
  },
  {
   "cell_type": "code",
   "execution_count": null,
   "id": "e33ff9a1-0e2e-4803-83b9-182b56a81d4a",
   "metadata": {},
   "outputs": [],
   "source": [
    "model = LargePNet3D(1,1,15,4)\n",
    "save_path = head_dir +r'\\logfile\\MINet'\n",
    "model = TrainerAug(model, train_data, val_data, save_path, opt )"
   ]
  }
 ],
 "metadata": {
  "kernelspec": {
   "display_name": "Python 3 (ipykernel)",
   "language": "python",
   "name": "python3"
  },
  "language_info": {
   "codemirror_mode": {
    "name": "ipython",
    "version": 3
   },
   "file_extension": ".py",
   "mimetype": "text/x-python",
   "name": "python",
   "nbconvert_exporter": "python",
   "pygments_lexer": "ipython3",
   "version": "3.8.10"
  }
 },
 "nbformat": 4,
 "nbformat_minor": 5
}
