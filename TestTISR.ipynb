{
 "cells": [
  {
   "cell_type": "code",
   "id": "initial_id",
   "metadata": {
    "collapsed": true,
    "ExecuteTime": {
     "end_time": "2025-06-24T04:45:38.437273Z",
     "start_time": "2025-06-24T04:45:36.368494Z"
    }
   },
   "source": [
    "import torch\n",
    "import tifffile\n",
    "import glob\n",
    "import numpy as np\n",
    "import matplotlib.pyplot as plt\n",
    "from tqdm import tqdm  \n",
    "import os\n",
    "from torch.cuda.amp import GradScaler, autocast\n",
    "from Models.LPTISR import LPTISR"
   ],
   "outputs": [
    {
     "name": "stderr",
     "output_type": "stream",
     "text": [
      "C:\\Users\\Dell\\.conda\\envs\\DL\\lib\\site-packages\\tqdm\\auto.py:21: TqdmWarning: IProgress not found. Please update jupyter and ipywidgets. See https://ipywidgets.readthedocs.io/en/stable/user_install.html\n",
      "  from .autonotebook import tqdm as notebook_tqdm\n"
     ]
    }
   ],
   "execution_count": 1
  },
  {
   "metadata": {
    "ExecuteTime": {
     "end_time": "2025-06-24T05:00:37.756138Z",
     "start_time": "2025-06-24T05:00:37.739138Z"
    }
   },
   "cell_type": "code",
   "source": [
    "head_dir = r\"F:\\Opensource\\BioTISR\\MT\\Testing\"\n",
    "Raw_path = head_dir + r'\\TestNoisy'\n",
    "all_imgs_path = glob.glob(Raw_path + '\\\\'+'*.tif')\n",
    "num = len(all_imgs_path)\n",
    "Endstr ='.tif'\n",
    "device = 'cuda'\n",
    "save_path = head_dir + '\\\\'+'output'\n",
    "if not os.path.exists(save_path):  \n",
    "    os.mkdir(save_path)"
   ],
   "id": "8befa41f9eab1a26",
   "outputs": [],
   "execution_count": 14
  },
  {
   "metadata": {
    "ExecuteTime": {
     "end_time": "2025-06-24T05:09:39.900141Z",
     "start_time": "2025-06-24T05:06:38.903533Z"
    }
   },
   "cell_type": "code",
   "source": [
    "model_label = r'LPTISR'\n",
    "model =  LPTISR(2,7,False)\n",
    "model.load_state_dict(torch.load(r'TrainedModels\\BioTISR\\MT\\best_model.pth'))\n",
    "model_label = model_label\n",
    "save_path = head_dir + '\\\\'+'output'+'\\\\'+model_label\n",
    "if not os.path.exists(save_path):  \n",
    "    os.mkdir(save_path)\n",
    "\n",
    "pbar = tqdm(total=num, desc=\"Processing images\")\n",
    "for i in range(num):     \n",
    "    numstr = np.array2string(np.array(i+1))\n",
    "    I = tifffile.imread(Raw_path+ '\\\\' +numstr+Endstr)  # 20*51*512\n",
    "    I = np.array(I)\n",
    "    d1,_,_ = I.shape\n",
    "    I = (I - I.min()) / (I.max() - I.min())\n",
    "    model = model.to(device)\n",
    "    for frame in range(d1-6):\n",
    "        \n",
    "        im = torch.tensor(I[frame:frame+7,...], dtype=torch.float16).unsqueeze(0).unsqueeze(2).to(device)\n",
    "        \n",
    "        with torch.no_grad():\n",
    "            model.eval()\n",
    "            with autocast():\n",
    "                output = model(im.to(device))\n",
    "            output = output.to('cpu')\n",
    "            output = output.detach()\n",
    "            imde = output.squeeze(0) #7*1024*1024\n",
    "            if frame==0:\n",
    "                imde = imde[0:4,...]\n",
    "            elif frame==(d1-7):\n",
    "                imde = imde[3:7,...]\n",
    "            else:\n",
    "                imde = imde[3,...].unsqueeze(0)\n",
    "        if frame == 0:\n",
    "            out_batch = imde\n",
    "        else:\n",
    "            out_batch = torch.cat((out_batch,imde),0)\n",
    "        \n",
    "            \n",
    "    imde = np.array(out_batch)*65535\n",
    "        #imde = (2**16-1)*(imde-imde.min())/(imde.max()-imde.min())\n",
    "    imde = imde.astype(np.uint16)\n",
    "    \n",
    "    imde[imde<0] = 0\n",
    "    tifffile.imwrite(save_path+ '\\\\' +numstr+model_label+Endstr,imde)\n",
    "    pbar.update(1)\n",
    "pbar.close()"
   ],
   "id": "9dcd6ce2b1ad3b23",
   "outputs": [
    {
     "name": "stdout",
     "output_type": "stream",
     "text": [
      "drop path: Identity()\n",
      "drop path: Identity()\n",
      "drop path: Identity()\n"
     ]
    },
    {
     "name": "stderr",
     "output_type": "stream",
     "text": [
      "Processing images: 100%|██████████| 30/30 [03:00<00:00,  6.01s/it]\n"
     ]
    }
   ],
   "execution_count": 20
  },
  {
   "metadata": {
    "ExecuteTime": {
     "end_time": "2025-06-24T05:09:39.916141Z",
     "start_time": "2025-06-24T05:09:39.905140Z"
    }
   },
   "cell_type": "code",
   "source": [
    "# Evaluation\n",
    "import glob\n",
    "import numpy as np\n",
    "import tifffile\n",
    "from scipy.optimize import leastsq\n",
    "import os\n",
    "import math\n",
    "import numexpr\n",
    "import cv2\n",
    "import torch"
   ],
   "id": "b0804c351eeb254e",
   "outputs": [],
   "execution_count": 21
  },
  {
   "metadata": {
    "ExecuteTime": {
     "end_time": "2025-06-24T05:09:39.980159Z",
     "start_time": "2025-06-24T05:09:39.965153Z"
    }
   },
   "cell_type": "code",
   "source": [
    "from scipy.optimize import leastsq\n",
    "\n",
    "def linear_error(p,gt,pre):\n",
    "    return p[0]*pre+p[1]-gt\n",
    "    \n",
    "def linear_trans(gt,pre):\n",
    "    p0 = [1,0]\n",
    "    result = leastsq(linear_error,p0,args=(gt.ravel(),pre.ravel()))\n",
    "    a,b = result[0]\n",
    "    return a*pre+b\n",
    "\n",
    "def calc_psnr(sr, hr, scale=3, rgb_range=255, dataset=None):\n",
    "    sr = linear_trans(hr, sr)\n",
    "    diff = (sr - hr)\n",
    "    mse = np.mean((diff) ** 2)\n",
    "    return -10 * math.log10(mse)"
   ],
   "id": "998f21d01f300621",
   "outputs": [],
   "execution_count": 22
  },
  {
   "metadata": {
    "ExecuteTime": {
     "end_time": "2025-06-24T05:10:16.981563Z",
     "start_time": "2025-06-24T05:09:40.029155Z"
    }
   },
   "cell_type": "code",
   "source": [
    "GT_dir = head_dir + r'\\\\TestGT\\\\'\n",
    "Output_dir = head_dir + r'\\\\output\\\\LPTISR\\\\'\n",
    "PSNR_list = []\n",
    "\n",
    "num = 30\n",
    "for i in range(num):\n",
    "    print(i)\n",
    "    numstr = np.array2string(np.array(i+1))\n",
    "    GT = tifffile.imread(os.path.join(GT_dir,str(i+1)+'.tif'))\n",
    "    GT = np.array(GT)\n",
    "    GT = GT/GT.max()\n",
    "    for tt in range(20):\n",
    "        GT[tt,...] = cv2.GaussianBlur(GT[tt,...], (3,3), 0.8)\n",
    "    GT = GT/GT.max()   \n",
    "    Output = tifffile.imread(os.path.join(Output_dir,str(i+1)+'LPTISR.tif'))/65535\n",
    "\n",
    "    for tt in range(8,10):\n",
    "        GT_tmp = GT[tt,...]\n",
    "        Output_tmp = Output[tt,...]\n",
    "        PSNR_list.append(calc_psnr(Output_tmp,GT_tmp))\n",
    "PSNR_list = np.array(PSNR_list)\n",
    "print(PSNR_list.mean())"
   ],
   "id": "8b965fa3f11c10cd",
   "outputs": [
    {
     "name": "stdout",
     "output_type": "stream",
     "text": [
      "0\n",
      "1\n",
      "2\n",
      "3\n",
      "4\n",
      "5\n",
      "6\n",
      "7\n",
      "8\n",
      "9\n",
      "10\n",
      "11\n",
      "12\n",
      "13\n",
      "14\n",
      "15\n",
      "16\n",
      "17\n",
      "18\n",
      "19\n",
      "20\n",
      "21\n",
      "22\n",
      "23\n",
      "24\n",
      "25\n",
      "26\n",
      "27\n",
      "28\n",
      "29\n",
      "29.891276055124244\n"
     ]
    }
   ],
   "execution_count": 23
  },
  {
   "metadata": {},
   "cell_type": "code",
   "outputs": [],
   "execution_count": null,
   "source": "",
   "id": "9e3cea7a9c0bfc72"
  }
 ],
 "metadata": {
  "kernelspec": {
   "display_name": "Python 3",
   "language": "python",
   "name": "python3"
  },
  "language_info": {
   "codemirror_mode": {
    "name": "ipython",
    "version": 2
   },
   "file_extension": ".py",
   "mimetype": "text/x-python",
   "name": "python",
   "nbconvert_exporter": "python",
   "pygments_lexer": "ipython2",
   "version": "2.7.6"
  }
 },
 "nbformat": 4,
 "nbformat_minor": 5
}
