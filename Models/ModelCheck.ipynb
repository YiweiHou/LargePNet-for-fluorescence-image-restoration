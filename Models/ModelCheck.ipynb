{
 "cells": [
  {
   "cell_type": "code",
   "id": "initial_id",
   "metadata": {
    "collapsed": true,
    "ExecuteTime": {
     "end_time": "2025-06-20T06:53:50.770892Z",
     "start_time": "2025-06-20T06:53:48.898125Z"
    }
   },
   "source": [
    "import torch\n",
    "from LargePNet import *\n",
    "from LPTISR import *\n",
    "from LargePNet3D import *\n",
    "from Discriminator import MultiScaleDiscriminator"
   ],
   "outputs": [
    {
     "name": "stderr",
     "output_type": "stream",
     "text": [
      "C:\\Users\\Dell\\.conda\\envs\\DL\\lib\\site-packages\\tqdm\\auto.py:21: TqdmWarning: IProgress not found. Please update jupyter and ipywidgets. See https://ipywidgets.readthedocs.io/en/stable/user_install.html\n",
      "  from .autonotebook import tqdm as notebook_tqdm\n"
     ]
    }
   ],
   "execution_count": 2
  },
  {
   "metadata": {
    "ExecuteTime": {
     "end_time": "2025-06-20T06:30:12.921416Z",
     "start_time": "2025-06-20T06:30:10.382920Z"
    }
   },
   "cell_type": "code",
   "source": [
    "# Denoise, deblurring model\n",
    "x = torch.randn(1, 1, 512, 512).to('cuda')\n",
    "model = LargePNet(n_channels = 1,n_classes = 1,upscale = 1,lksize = 25,lkblocknum = 4).to('cuda')\n",
    "y = model(x)\n",
    "print(y.size())"
   ],
   "id": "fe1ee84edb0d01b4",
   "outputs": [
    {
     "name": "stdout",
     "output_type": "stream",
     "text": [
      "drop path: Identity()\n",
      "drop path: Identity()\n",
      "drop path: Identity()\n",
      "torch.Size([1, 1, 512, 512])\n"
     ]
    }
   ],
   "execution_count": 10
  },
  {
   "metadata": {
    "ExecuteTime": {
     "end_time": "2025-06-19T06:25:45.573571Z",
     "start_time": "2025-06-19T06:25:45.300037Z"
    }
   },
   "cell_type": "code",
   "source": [
    "# Super-resolution model\n",
    "x = torch.randn(1, 1, 512, 512).to('cuda')\n",
    "model = LargePNet(n_channels = 1,n_classes = 1,upscale = 2,lksize = 15,lkblocknum = 4).to('cuda')\n",
    "y = model(x)\n",
    "print(y.size())"
   ],
   "id": "c5cfde7867acd5e0",
   "outputs": [
    {
     "name": "stdout",
     "output_type": "stream",
     "text": [
      "drop path: Identity()\n",
      "drop path: Identity()\n",
      "drop path: Identity()\n",
      "torch.Size([1, 1, 1024, 1024])\n"
     ]
    }
   ],
   "execution_count": 4
  },
  {
   "metadata": {
    "ExecuteTime": {
     "end_time": "2025-06-19T06:35:04.131314Z",
     "start_time": "2025-06-19T06:34:57.171494Z"
    }
   },
   "cell_type": "code",
   "source": [
    "# Video super-resolution (output the central frame)\n",
    "x = torch.randn(1, 7, 1, 512, 512).to('cuda')\n",
    "model = LPTISR(scale = 2, n_frames=7).to('cuda')\n",
    "y = model(x)\n",
    "print(y.size())"
   ],
   "id": "99abf970c62f6e1a",
   "outputs": [
    {
     "name": "stdout",
     "output_type": "stream",
     "text": [
      "drop path: Identity()\n",
      "drop path: Identity()\n",
      "drop path: Identity()\n"
     ]
    },
    {
     "name": "stderr",
     "output_type": "stream",
     "text": [
      "C:\\Users\\Dell\\.conda\\envs\\DL\\lib\\site-packages\\torch\\nn\\functional.py:4236: UserWarning: Default grid_sample and affine_grid behavior has changed to align_corners=False since 1.3.0. Please specify align_corners=True if the old behavior is desired. See the documentation of grid_sample for details.\n",
      "  warnings.warn(\n"
     ]
    },
    {
     "name": "stdout",
     "output_type": "stream",
     "text": [
      "torch.Size([1, 1, 1024, 1024])\n"
     ]
    }
   ],
   "execution_count": 8
  },
  {
   "metadata": {
    "ExecuteTime": {
     "end_time": "2025-06-20T06:53:55.898234Z",
     "start_time": "2025-06-20T06:53:55.118597Z"
    }
   },
   "cell_type": "code",
   "source": [
    "# GAN-based Generative restoration\n",
    "x = torch.randn(1, 1, 512, 512).to('cuda')\n",
    "hr_shape = (512,512)\n",
    "netG = LargePNet(n_channels = 1,n_classes = 1,upscale = 1,lksize = 25,lkblocknum = 4).to('cuda')\n",
    "netD = MultiScaleDiscriminator(input_shape = (1, *hr_shape)).to('cuda')\n",
    "out_G = netG(x)\n",
    "out_D = netD(x)\n",
    "print(out_G.size())\n",
    "print(out_D.size())"
   ],
   "id": "a23fad0d7a599906",
   "outputs": [
    {
     "name": "stdout",
     "output_type": "stream",
     "text": [
      "drop path: Identity()\n",
      "drop path: Identity()\n",
      "drop path: Identity()\n"
     ]
    },
    {
     "name": "stderr",
     "output_type": "stream",
     "text": [
      "C:\\Users\\Dell\\.conda\\envs\\DL\\lib\\site-packages\\torch\\functional.py:504: UserWarning: torch.meshgrid: in an upcoming release, it will be required to pass the indexing argument. (Triggered internally at C:\\cb\\pytorch_1000000000000\\work\\aten\\src\\ATen\\native\\TensorShape.cpp:3484.)\n",
      "  return _VF.meshgrid(tensors, **kwargs)  # type: ignore[attr-defined]\n"
     ]
    },
    {
     "name": "stdout",
     "output_type": "stream",
     "text": [
      "torch.Size([1, 1, 512, 512])\n",
      "torch.Size([1, 1, 64, 64])\n"
     ]
    }
   ],
   "execution_count": 3
  },
  {
   "metadata": {
    "ExecuteTime": {
     "end_time": "2025-06-20T06:33:30.484135Z",
     "start_time": "2025-06-20T06:33:29.499385Z"
    }
   },
   "cell_type": "code",
   "source": [
    "# Volumetric deblurring and background removal\n",
    "x = torch.randn(1, 1, 6, 512, 512).to('cuda')\n",
    "model = LargePNet3D(n_channels = 1, n_classes = 1,  lksize = 25, lkblocknum = 4).to('cuda')\n",
    "y = model(x)\n",
    "print(y.size())"
   ],
   "id": "8fcd23b6150df36",
   "outputs": [
    {
     "name": "stderr",
     "output_type": "stream",
     "text": [
      "C:\\Users\\Dell\\.conda\\envs\\DL\\lib\\site-packages\\torch\\functional.py:504: UserWarning: torch.meshgrid: in an upcoming release, it will be required to pass the indexing argument. (Triggered internally at C:\\cb\\pytorch_1000000000000\\work\\aten\\src\\ATen\\native\\TensorShape.cpp:3484.)\n",
      "  return _VF.meshgrid(tensors, **kwargs)  # type: ignore[attr-defined]\n"
     ]
    },
    {
     "name": "stdout",
     "output_type": "stream",
     "text": [
      "torch.Size([1, 1, 6, 512, 512])\n"
     ]
    }
   ],
   "execution_count": 2
  },
  {
   "metadata": {},
   "cell_type": "code",
   "outputs": [],
   "execution_count": null,
   "source": "",
   "id": "29ee759eab96fbc0"
  }
 ],
 "metadata": {
  "kernelspec": {
   "display_name": "Python 3",
   "language": "python",
   "name": "python3"
  },
  "language_info": {
   "codemirror_mode": {
    "name": "ipython",
    "version": 2
   },
   "file_extension": ".py",
   "mimetype": "text/x-python",
   "name": "python",
   "nbconvert_exporter": "python",
   "pygments_lexer": "ipython2",
   "version": "2.7.6"
  }
 },
 "nbformat": 4,
 "nbformat_minor": 5
}
