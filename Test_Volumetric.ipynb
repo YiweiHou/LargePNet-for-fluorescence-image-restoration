{
 "cells": [
  {
   "cell_type": "code",
   "id": "8d24bc24-e960-447c-b111-11b2172f9097",
   "metadata": {
    "ExecuteTime": {
     "end_time": "2025-06-23T16:09:42.659815Z",
     "start_time": "2025-06-23T16:09:42.639818Z"
    }
   },
   "source": [
    "import numpy as np\n",
    "import torch\n",
    "import torch.nn as nn\n",
    "from torch.autograd import Variable\n",
    "import torch.utils.data as Data\n",
    "import tifffile\n",
    "from Utils.DataAug3D import *\n",
    "from torch.cuda.amp import GradScaler, autocast\n",
    "from Models.LargePNet3D import *\n",
    "import os\n",
    "import matplotlib.pyplot as plt\n",
    "from tqdm import tqdm\n",
    "import glob\n",
    "from Utils.ssim3d import *\n",
    "from Utils.FastMSSSIM import *\n",
    "import pandas as pd"
   ],
   "outputs": [],
   "execution_count": 7
  },
  {
   "cell_type": "code",
   "id": "b53afe20-b0e7-4bce-9ec7-9c6dda820d6f",
   "metadata": {
    "ExecuteTime": {
     "end_time": "2025-06-23T15:57:00.759972Z",
     "start_time": "2025-06-23T15:57:00.748325Z"
    }
   },
   "source": [
    "def rescale(restored, gt):  \n",
    "    '''Affine rescaling'''  \n",
    "    batch_size = restored.size(0)  \n",
    "    restored_flat = restored.view(batch_size, -1)   \n",
    "    gt_flat = gt.view(batch_size, -1)  \n",
    "    mean_restored = restored_flat.mean()  \n",
    "    mean_gt = gt_flat.mean()  \n",
    "    cov_restored_gt = torch.mean((restored - mean_restored) * (gt - mean_gt))  \n",
    "    var_restored = torch.mean((restored - mean_restored) ** 2)   \n",
    "    a = cov_restored_gt / var_restored  \n",
    "    b = mean_gt - a * mean_restored  \n",
    "    return a * restored + b "
   ],
   "outputs": [],
   "execution_count": 2
  },
  {
   "metadata": {
    "ExecuteTime": {
     "end_time": "2025-06-23T16:12:16.777503Z",
     "start_time": "2025-06-23T16:12:16.759496Z"
    }
   },
   "cell_type": "code",
   "source": [
    "head_dir = r\"Data\\BackgroundRemoval\\BackgroundRemoval\\MousePhalloidin\\Testing\"\n",
    "GT_path = head_dir + r'\\TestGT'\n",
    "Raw_path = head_dir + r'\\TestNoisy'\n",
    "save_dir = head_dir + '\\\\' + 'output'\n",
    "frame = len([name for name in os.listdir(Raw_path) if os.path.isfile(os.path.join(Raw_path, name))])\n",
    "if not os.path.exists(save_dir):\n",
    "    os.mkdir(save_dir)"
   ],
   "id": "2713e600ed17767",
   "outputs": [],
   "execution_count": 10
  },
  {
   "metadata": {},
   "cell_type": "code",
   "outputs": [],
   "execution_count": null,
   "source": [
    "model_label = 'LargePNet3D'\n",
    "model_dir = r'TrainedModel\\BackgroundRemoval\\MousePhalloidin\\best_model.pth'\n",
    "model = LargePNet3D(1,1,15,4)\n",
    "model.load_state_dict(torch.load(model_dir))\n",
    "save_path = save_dir + '\\\\' + model_label\n",
    "device = 'cuda'\n",
    "PSNR = []\n",
    "SSIM = []\n",
    "NRMSE = []\n",
    "criterionSSIM = SSIM3D()\n",
    "criterionMSSSIM = MS_SSIM(channel=1)\n",
    "if not os.path.exists(save_path):\n",
    "    os.mkdir(save_path)\n",
    "Endstr ='.tif'\n",
    "pbar = tqdm(total=frame, desc=\"Processing images\")\n",
    "for i in range(frame):\n",
    "\n",
    "    numstr = np.array2string(np.array(i+1))\n",
    "    b_x_img = tifffile.imread(Raw_path + '\\\\' + np.array2string(np.array(i+1)) + '.tif')\n",
    "    b_y_img = tifffile.imread(GT_path + '\\\\' + np.array2string(np.array(i+1)) + '.tif')\n",
    "    \n",
    "    d1, d2, d3 = b_x_img.shape\n",
    "    b_x = np.array(b_x_img)\n",
    "    b_y = np.array(b_y_img)\n",
    "    b_x = (b_x - b_x.min())/(b_x.max() - b_x.min())\n",
    "    b_y = (b_y - b_y.min())/(b_y.max() - b_y.min())\n",
    "    \n",
    "    b_x = torch.tensor(b_x, dtype = torch.float16)\n",
    "    b_y = torch.tensor(b_y, dtype = torch.float16)\n",
    "    \n",
    "    b_x = b_x.unsqueeze(0).unsqueeze(0)\n",
    "    b_y = b_y.unsqueeze(0).unsqueeze(0)\n",
    "    model.eval()\n",
    "    model.to(device)\n",
    "    with torch.no_grad():\n",
    "        with autocast():\n",
    "            b_x = b_x.to(device)\n",
    "            b_y = b_y.to(device)\n",
    "            b_x = model(b_x)\n",
    "            b_x = rescale(b_x, b_y)\n",
    "            #b_x = (b_x - b_x.min())/(b_x.max() - b_x.min())\n",
    "            nrmse = torch.sqrt(torch.mean((b_x - b_y) ** 2))\n",
    "            NRMSE.append(nrmse.cpu())            \n",
    "            ssim = criterionMSSSIM(b_x.float().squeeze(0).squeeze(0).unsqueeze(1), b_y.float().squeeze(0).squeeze(0).unsqueeze(1))\n",
    "            SSIM.append(ssim.cpu())\n",
    "            \n",
    "            \n",
    "            MSE = torch.mean((b_x-b_y)**2).cpu()\n",
    "            PSNR.append(10*torch.log10(1/MSE))\n",
    " \n",
    "            \n",
    "            b_x = b_x.cpu()\n",
    "            b_y = b_y.cpu()\n",
    "            \n",
    "    # SSIM.append(criterionSSIM(b_x.float(), b_y.float()))\n",
    "    b_x = np.array(b_x.squeeze(0).squeeze(0))       \n",
    "    b_y = np.array(b_y.squeeze(0).squeeze(0)) \n",
    "    b_x[b_x<0] = 0\n",
    "    b_x = np.array(b_x*65535).astype(np.uint16)\n",
    "    tifffile.imwrite(save_path+ '\\\\' +numstr+model_label+Endstr, b_x)\n",
    "    pbar.update(1)\n",
    "pbar.close()\n",
    "\n",
    "PSNR = np.array(PSNR)\n",
    "df = pd.DataFrame(PSNR)\n",
    "\n",
    "df.to_excel(save_dir + r'\\LPNet3DPSNR.xlsx', index=False, header=False)\n",
    "print(PSNR.mean())\n",
    "\n",
    "SSIM = np.array(SSIM)\n",
    "df = pd.DataFrame(SSIM)\n",
    "\n",
    "df.to_excel(save_dir + r'\\LPNet3DSSIM.xlsx', index=False, header=False)\n",
    "print(SSIM.mean())\n",
    "\n",
    "NRMSE = np.array(NRMSE)\n",
    "df = pd.DataFrame(NRMSE)\n",
    "\n",
    "df.to_excel(save_dir + r'\\LPNet3DNRMSE.xlsx', index=False, header=False)\n",
    "print(NRMSE.mean())"
   ],
   "id": "b6cf7e9d6129a697"
  },
  {
   "metadata": {
    "ExecuteTime": {
     "end_time": "2025-06-23T16:10:08.798393Z",
     "start_time": "2025-06-23T16:10:08.786396Z"
    }
   },
   "cell_type": "code",
   "source": [
    "PSNR = np.array(PSNR)\n",
    "print(PSNR.mean())"
   ],
   "id": "65c23a113fec5abb",
   "outputs": [
    {
     "name": "stdout",
     "output_type": "stream",
     "text": [
      "35.122353\n"
     ]
    }
   ],
   "execution_count": 9
  },
  {
   "metadata": {},
   "cell_type": "code",
   "outputs": [],
   "execution_count": null,
   "source": "",
   "id": "4ae8681335bb9798"
  }
 ],
 "metadata": {
  "kernelspec": {
   "display_name": "DL",
   "language": "python",
   "name": "dl"
  },
  "language_info": {
   "codemirror_mode": {
    "name": "ipython",
    "version": 3
   },
   "file_extension": ".py",
   "mimetype": "text/x-python",
   "name": "python",
   "nbconvert_exporter": "python",
   "pygments_lexer": "ipython3",
   "version": "3.10.13"
  }
 },
 "nbformat": 4,
 "nbformat_minor": 5
}
