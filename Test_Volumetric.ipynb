{
 "cells": [
  {
   "cell_type": "code",
   "id": "8d24bc24-e960-447c-b111-11b2172f9097",
   "metadata": {
    "ExecuteTime": {
     "end_time": "2025-06-23T16:09:42.659815Z",
     "start_time": "2025-06-23T16:09:42.639818Z"
    }
   },
   "source": [
    "import numpy as np\n",
    "import torch\n",
    "import torch.nn as nn\n",
    "from torch.autograd import Variable\n",
    "import torch.utils.data as Data\n",
    "import tifffile\n",
    "from Utils.DataAug3D import *\n",
    "from torch.cuda.amp import GradScaler, autocast\n",
    "from Models.LargePNet3D import *\n",
    "import os\n",
    "import matplotlib.pyplot as plt\n",
    "from tqdm import tqdm\n",
    "import glob\n",
    "from Utils.ssim3d import *\n",
    "from Utils.FastMSSSIM import *"
   ],
   "outputs": [],
   "execution_count": 7
  },
  {
   "cell_type": "code",
   "id": "b53afe20-b0e7-4bce-9ec7-9c6dda820d6f",
   "metadata": {
    "ExecuteTime": {
     "end_time": "2025-06-23T15:57:00.759972Z",
     "start_time": "2025-06-23T15:57:00.748325Z"
    }
   },
   "source": [
    "def rescale(restored, gt):  \n",
    "    '''Affine rescaling'''  \n",
    "    batch_size = restored.size(0)  \n",
    "    restored_flat = restored.view(batch_size, -1)   \n",
    "    gt_flat = gt.view(batch_size, -1)  \n",
    "    mean_restored = restored_flat.mean()  \n",
    "    mean_gt = gt_flat.mean()  \n",
    "    cov_restored_gt = torch.mean((restored - mean_restored) * (gt - mean_gt))  \n",
    "    var_restored = torch.mean((restored - mean_restored) ** 2)   \n",
    "    a = cov_restored_gt / var_restored  \n",
    "    b = mean_gt - a * mean_restored  \n",
    "    return a * restored + b "
   ],
   "outputs": [],
   "execution_count": 2
  },
  {
   "metadata": {
    "ExecuteTime": {
     "end_time": "2025-06-23T16:12:16.777503Z",
     "start_time": "2025-06-23T16:12:16.759496Z"
    }
   },
   "cell_type": "code",
   "source": [
    "head_dir = r\"E:\\BackgroundRemoval\\Channel3\\512data\\Training\"\n",
    "GT_path = head_dir + r'\\TestGT'\n",
    "Raw_path = head_dir + r'\\TestNoisy'\n",
    "save_dir = head_dir + '\\\\' + 'output'\n",
    "frame = len([name for name in os.listdir(Raw_path) if os.path.isfile(os.path.join(Raw_path, name))])\n",
    "if not os.path.exists(save_dir):\n",
    "    os.mkdir(save_dir)"
   ],
   "id": "2713e600ed17767",
   "outputs": [],
   "execution_count": 10
  },
  {
   "metadata": {
    "ExecuteTime": {
     "end_time": "2025-06-23T16:10:07.306192Z",
     "start_time": "2025-06-23T16:09:44.936676Z"
    }
   },
   "cell_type": "code",
   "source": [
    "model_label = 'LargePNet3D'\n",
    "model_dir = r'E:\\BackgroundRemoval\\Channel3\\MINet3Dv3F\\best_model.pth'\n",
    "model = LargePNet3D(1,1,15,4)\n",
    "model.load_state_dict(torch.load(model_dir))\n",
    "save_path = save_dir + '\\\\' + model_label\n",
    "device = 'cuda'\n",
    "PSNR = []\n",
    "SSIM = []\n",
    "NRMSE = []\n",
    "criterionSSIM = SSIM3D()\n",
    "criterionMSSSIM = MS_SSIM(channel=1)\n",
    "if not os.path.exists(save_path):\n",
    "    os.mkdir(save_path)\n",
    "frame =  16\n",
    "Endstr ='.tif'\n",
    "pbar = tqdm(total=frame, desc=\"Processing images\")\n",
    "for i in range(frame):\n",
    "\n",
    "    numstr = np.array2string(np.array(i+1))\n",
    "    b_x_img = tifffile.imread(Raw_path + '\\\\' + np.array2string(np.array(i+1)) + '.tif')\n",
    "    b_y_img = tifffile.imread(GT_path + '\\\\' + np.array2string(np.array(i+1)) + '.tif')\n",
    "    \n",
    "    d1, d2, d3 = b_x_img.shape\n",
    "    b_x = np.array(b_x_img)\n",
    "    b_y = np.array(b_y_img)\n",
    "    b_x = (b_x - b_x.min())/(b_x.max() - b_x.min())\n",
    "    b_y = (b_y - b_y.min())/(b_y.max() - b_y.min())\n",
    "    \n",
    "    b_x = torch.tensor(b_x, dtype = torch.float16)\n",
    "    b_y = torch.tensor(b_y, dtype = torch.float16)\n",
    "    \n",
    "    b_x = b_x.unsqueeze(0).unsqueeze(0)\n",
    "    b_y = b_y.unsqueeze(0).unsqueeze(0)\n",
    "    model.eval()\n",
    "    model.to(device)\n",
    "    with torch.no_grad():\n",
    "        with autocast():\n",
    "            b_x = b_x.to(device)\n",
    "            b_y = b_y.to(device)\n",
    "            b_x = model(b_x)\n",
    "            b_x = rescale(b_x, b_y)\n",
    "            #b_x = (b_x - b_x.min())/(b_x.max() - b_x.min())\n",
    "            nrmse = torch.sqrt(torch.mean((b_x - b_y) ** 2))\n",
    "            NRMSE.append(nrmse.cpu())            \n",
    "            ssim = criterionMSSSIM(b_x.float().squeeze(0).squeeze(0).unsqueeze(1), b_y.float().squeeze(0).squeeze(0).unsqueeze(1))\n",
    "            SSIM.append(ssim.cpu())\n",
    "            \n",
    "            \n",
    "            MSE = torch.mean((b_x-b_y)**2).cpu()\n",
    "            PSNR.append(10*torch.log10(1/MSE))\n",
    " \n",
    "            \n",
    "            b_x = b_x.cpu()\n",
    "            b_y = b_y.cpu()\n",
    "            \n",
    "    # SSIM.append(criterionSSIM(b_x.float(), b_y.float()))\n",
    "    b_x = np.array(b_x.squeeze(0).squeeze(0))       \n",
    "    b_y = np.array(b_y.squeeze(0).squeeze(0)) \n",
    "    b_x[b_x<0] = 0\n",
    "    b_x = np.array(b_x*65535).astype(np.uint16)\n",
    "    tifffile.imwrite(save_path+ '\\\\' +numstr+model_label+Endstr, b_x)\n",
    "    pbar.update(1)\n",
    "pbar.close()\n",
    "\n",
    "PSNR = np.array(PSNR)\n",
    "df = pd.DataFrame(PSNR)\n",
    "# 将 DataFrame 输出到 Excel 文件\n",
    "df.to_excel(save_dir + r'\\LPNet3DPSNR.xlsx', index=False, header=False)\n",
    "print(PSNR.mean())\n",
    "\n",
    "SSIM = np.array(SSIM)\n",
    "df = pd.DataFrame(SSIM)\n",
    "# 将 DataFrame 输出到 Excel 文件\n",
    "df.to_excel(save_dir + r'\\LPNet3DSSIM.xlsx', index=False, header=False)\n",
    "print(SSIM.mean())\n",
    "\n",
    "NRMSE = np.array(NRMSE)\n",
    "df = pd.DataFrame(NRMSE)\n",
    "# 将 DataFrame 输出到 Excel 文件\n",
    "df.to_excel(save_dir + r'\\LPNet3DNRMSE.xlsx', index=False, header=False)\n",
    "print(NRMSE.mean())"
   ],
   "id": "bd4516eec19c915b",
   "outputs": [
    {
     "name": "stderr",
     "output_type": "stream",
     "text": [
      "Processing images:  50%|█████     | 16/32 [00:18<00:18,  1.13s/it]"
     ]
    },
    {
     "ename": "FileNotFoundError",
     "evalue": "[Errno 2] No such file or directory: 'E:\\\\BackgroundRemoval\\\\Channel3\\\\512data\\\\Training\\\\TestNoisy\\\\17.tif'",
     "output_type": "error",
     "traceback": [
      "\u001B[1;31m---------------------------------------------------------------------------\u001B[0m",
      "\u001B[1;31mFileNotFoundError\u001B[0m                         Traceback (most recent call last)",
      "Cell \u001B[1;32mIn[8], line 20\u001B[0m\n\u001B[0;32m     17\u001B[0m \u001B[38;5;28;01mfor\u001B[39;00m i \u001B[38;5;129;01min\u001B[39;00m \u001B[38;5;28mrange\u001B[39m(frame):\n\u001B[0;32m     19\u001B[0m     numstr \u001B[38;5;241m=\u001B[39m np\u001B[38;5;241m.\u001B[39marray2string(np\u001B[38;5;241m.\u001B[39marray(i\u001B[38;5;241m+\u001B[39m\u001B[38;5;241m1\u001B[39m))\n\u001B[1;32m---> 20\u001B[0m     b_x_img \u001B[38;5;241m=\u001B[39m \u001B[43mtifffile\u001B[49m\u001B[38;5;241;43m.\u001B[39;49m\u001B[43mimread\u001B[49m\u001B[43m(\u001B[49m\u001B[43mRaw_path\u001B[49m\u001B[43m \u001B[49m\u001B[38;5;241;43m+\u001B[39;49m\u001B[43m \u001B[49m\u001B[38;5;124;43m'\u001B[39;49m\u001B[38;5;130;43;01m\\\\\u001B[39;49;00m\u001B[38;5;124;43m'\u001B[39;49m\u001B[43m \u001B[49m\u001B[38;5;241;43m+\u001B[39;49m\u001B[43m \u001B[49m\u001B[43mnp\u001B[49m\u001B[38;5;241;43m.\u001B[39;49m\u001B[43marray2string\u001B[49m\u001B[43m(\u001B[49m\u001B[43mnp\u001B[49m\u001B[38;5;241;43m.\u001B[39;49m\u001B[43marray\u001B[49m\u001B[43m(\u001B[49m\u001B[43mi\u001B[49m\u001B[38;5;241;43m+\u001B[39;49m\u001B[38;5;241;43m1\u001B[39;49m\u001B[43m)\u001B[49m\u001B[43m)\u001B[49m\u001B[43m \u001B[49m\u001B[38;5;241;43m+\u001B[39;49m\u001B[43m \u001B[49m\u001B[38;5;124;43m'\u001B[39;49m\u001B[38;5;124;43m.tif\u001B[39;49m\u001B[38;5;124;43m'\u001B[39;49m\u001B[43m)\u001B[49m\n\u001B[0;32m     21\u001B[0m     b_y_img \u001B[38;5;241m=\u001B[39m tifffile\u001B[38;5;241m.\u001B[39mimread(GT_path \u001B[38;5;241m+\u001B[39m \u001B[38;5;124m'\u001B[39m\u001B[38;5;130;01m\\\\\u001B[39;00m\u001B[38;5;124m'\u001B[39m \u001B[38;5;241m+\u001B[39m np\u001B[38;5;241m.\u001B[39marray2string(np\u001B[38;5;241m.\u001B[39marray(i\u001B[38;5;241m+\u001B[39m\u001B[38;5;241m1\u001B[39m)) \u001B[38;5;241m+\u001B[39m \u001B[38;5;124m'\u001B[39m\u001B[38;5;124m.tif\u001B[39m\u001B[38;5;124m'\u001B[39m)\n\u001B[0;32m     23\u001B[0m     d1, d2, d3 \u001B[38;5;241m=\u001B[39m b_x_img\u001B[38;5;241m.\u001B[39mshape\n",
      "File \u001B[1;32m~\\.conda\\envs\\DL\\lib\\site-packages\\tifffile\\tifffile.py:1246\u001B[0m, in \u001B[0;36mimread\u001B[1;34m(***failed resolving arguments***)\u001B[0m\n\u001B[0;32m   1241\u001B[0m     files \u001B[38;5;241m=\u001B[39m files[\u001B[38;5;241m0\u001B[39m]\n\u001B[0;32m   1243\u001B[0m \u001B[38;5;28;01mif\u001B[39;00m \u001B[38;5;28misinstance\u001B[39m(files, \u001B[38;5;28mstr\u001B[39m) \u001B[38;5;129;01mor\u001B[39;00m \u001B[38;5;129;01mnot\u001B[39;00m \u001B[38;5;28misinstance\u001B[39m(\n\u001B[0;32m   1244\u001B[0m     files, collections\u001B[38;5;241m.\u001B[39mabc\u001B[38;5;241m.\u001B[39mSequence\n\u001B[0;32m   1245\u001B[0m ):\n\u001B[1;32m-> 1246\u001B[0m     \u001B[38;5;28;01mwith\u001B[39;00m TiffFile(\n\u001B[0;32m   1247\u001B[0m         files,\n\u001B[0;32m   1248\u001B[0m         mode\u001B[38;5;241m=\u001B[39mmode,\n\u001B[0;32m   1249\u001B[0m         name\u001B[38;5;241m=\u001B[39mname,\n\u001B[0;32m   1250\u001B[0m         offset\u001B[38;5;241m=\u001B[39moffset,\n\u001B[0;32m   1251\u001B[0m         size\u001B[38;5;241m=\u001B[39msize,\n\u001B[0;32m   1252\u001B[0m         omexml\u001B[38;5;241m=\u001B[39momexml,\n\u001B[0;32m   1253\u001B[0m         _multifile\u001B[38;5;241m=\u001B[39m_multifile,\n\u001B[0;32m   1254\u001B[0m         _useframes\u001B[38;5;241m=\u001B[39m_useframes,\n\u001B[0;32m   1255\u001B[0m         \u001B[38;5;241m*\u001B[39m\u001B[38;5;241m*\u001B[39mis_flags,\n\u001B[0;32m   1256\u001B[0m     ) \u001B[38;5;28;01mas\u001B[39;00m tif:\n\u001B[0;32m   1257\u001B[0m         \u001B[38;5;28;01mif\u001B[39;00m aszarr:\n\u001B[0;32m   1258\u001B[0m             \u001B[38;5;28;01massert\u001B[39;00m key \u001B[38;5;129;01mis\u001B[39;00m \u001B[38;5;28;01mNone\u001B[39;00m \u001B[38;5;129;01mor\u001B[39;00m \u001B[38;5;28misinstance\u001B[39m(key, \u001B[38;5;28mint\u001B[39m)\n",
      "File \u001B[1;32m~\\.conda\\envs\\DL\\lib\\site-packages\\tifffile\\tifffile.py:4243\u001B[0m, in \u001B[0;36mTiffFile.__init__\u001B[1;34m(self, file, mode, name, offset, size, omexml, _multifile, _useframes, _parent, **is_flags)\u001B[0m\n\u001B[0;32m   4240\u001B[0m     \u001B[38;5;28mself\u001B[39m\u001B[38;5;241m.\u001B[39m_omexml \u001B[38;5;241m=\u001B[39m omexml\n\u001B[0;32m   4241\u001B[0m     \u001B[38;5;28mself\u001B[39m\u001B[38;5;241m.\u001B[39mis_ome \u001B[38;5;241m=\u001B[39m \u001B[38;5;28;01mTrue\u001B[39;00m\n\u001B[1;32m-> 4243\u001B[0m fh \u001B[38;5;241m=\u001B[39m \u001B[43mFileHandle\u001B[49m\u001B[43m(\u001B[49m\u001B[43mfile\u001B[49m\u001B[43m,\u001B[49m\u001B[43m \u001B[49m\u001B[43mmode\u001B[49m\u001B[38;5;241;43m=\u001B[39;49m\u001B[43mmode\u001B[49m\u001B[43m,\u001B[49m\u001B[43m \u001B[49m\u001B[43mname\u001B[49m\u001B[38;5;241;43m=\u001B[39;49m\u001B[43mname\u001B[49m\u001B[43m,\u001B[49m\u001B[43m \u001B[49m\u001B[43moffset\u001B[49m\u001B[38;5;241;43m=\u001B[39;49m\u001B[43moffset\u001B[49m\u001B[43m,\u001B[49m\u001B[43m \u001B[49m\u001B[43msize\u001B[49m\u001B[38;5;241;43m=\u001B[39;49m\u001B[43msize\u001B[49m\u001B[43m)\u001B[49m\n\u001B[0;32m   4244\u001B[0m \u001B[38;5;28mself\u001B[39m\u001B[38;5;241m.\u001B[39m_fh \u001B[38;5;241m=\u001B[39m fh\n\u001B[0;32m   4245\u001B[0m \u001B[38;5;28mself\u001B[39m\u001B[38;5;241m.\u001B[39m_multifile \u001B[38;5;241m=\u001B[39m \u001B[38;5;28;01mTrue\u001B[39;00m \u001B[38;5;28;01mif\u001B[39;00m _multifile \u001B[38;5;129;01mis\u001B[39;00m \u001B[38;5;28;01mNone\u001B[39;00m \u001B[38;5;28;01melse\u001B[39;00m \u001B[38;5;28mbool\u001B[39m(_multifile)\n",
      "File \u001B[1;32m~\\.conda\\envs\\DL\\lib\\site-packages\\tifffile\\tifffile.py:14454\u001B[0m, in \u001B[0;36mFileHandle.__init__\u001B[1;34m(self, file, mode, name, offset, size)\u001B[0m\n\u001B[0;32m  14452\u001B[0m \u001B[38;5;28mself\u001B[39m\u001B[38;5;241m.\u001B[39m_close \u001B[38;5;241m=\u001B[39m \u001B[38;5;28;01mTrue\u001B[39;00m\n\u001B[0;32m  14453\u001B[0m \u001B[38;5;28mself\u001B[39m\u001B[38;5;241m.\u001B[39m_lock \u001B[38;5;241m=\u001B[39m NullContext()\n\u001B[1;32m> 14454\u001B[0m \u001B[38;5;28;43mself\u001B[39;49m\u001B[38;5;241;43m.\u001B[39;49m\u001B[43mopen\u001B[49m\u001B[43m(\u001B[49m\u001B[43m)\u001B[49m\n\u001B[0;32m  14455\u001B[0m \u001B[38;5;28;01massert\u001B[39;00m \u001B[38;5;28mself\u001B[39m\u001B[38;5;241m.\u001B[39m_fh \u001B[38;5;129;01mis\u001B[39;00m \u001B[38;5;129;01mnot\u001B[39;00m \u001B[38;5;28;01mNone\u001B[39;00m\n",
      "File \u001B[1;32m~\\.conda\\envs\\DL\\lib\\site-packages\\tifffile\\tifffile.py:14473\u001B[0m, in \u001B[0;36mFileHandle.open\u001B[1;34m(self)\u001B[0m\n\u001B[0;32m  14471\u001B[0m \u001B[38;5;28mself\u001B[39m\u001B[38;5;241m.\u001B[39m_file \u001B[38;5;241m=\u001B[39m os\u001B[38;5;241m.\u001B[39mpath\u001B[38;5;241m.\u001B[39mrealpath(\u001B[38;5;28mself\u001B[39m\u001B[38;5;241m.\u001B[39m_file)\n\u001B[0;32m  14472\u001B[0m \u001B[38;5;28mself\u001B[39m\u001B[38;5;241m.\u001B[39m_dir, \u001B[38;5;28mself\u001B[39m\u001B[38;5;241m.\u001B[39m_name \u001B[38;5;241m=\u001B[39m os\u001B[38;5;241m.\u001B[39mpath\u001B[38;5;241m.\u001B[39msplit(\u001B[38;5;28mself\u001B[39m\u001B[38;5;241m.\u001B[39m_file)\n\u001B[1;32m> 14473\u001B[0m \u001B[38;5;28mself\u001B[39m\u001B[38;5;241m.\u001B[39m_fh \u001B[38;5;241m=\u001B[39m \u001B[38;5;28;43mopen\u001B[39;49m\u001B[43m(\u001B[49m\n\u001B[0;32m  14474\u001B[0m \u001B[43m    \u001B[49m\u001B[38;5;28;43mself\u001B[39;49m\u001B[38;5;241;43m.\u001B[39;49m\u001B[43m_file\u001B[49m\u001B[43m,\u001B[49m\u001B[43m \u001B[49m\u001B[38;5;28;43mself\u001B[39;49m\u001B[38;5;241;43m.\u001B[39;49m\u001B[43m_mode\u001B[49m\u001B[43m,\u001B[49m\u001B[43m \u001B[49m\u001B[43mencoding\u001B[49m\u001B[38;5;241;43m=\u001B[39;49m\u001B[38;5;28;43;01mNone\u001B[39;49;00m\n\u001B[0;32m  14475\u001B[0m \u001B[43m\u001B[49m\u001B[43m)\u001B[49m  \u001B[38;5;66;03m# type: ignore\u001B[39;00m\n\u001B[0;32m  14476\u001B[0m \u001B[38;5;28mself\u001B[39m\u001B[38;5;241m.\u001B[39m_close \u001B[38;5;241m=\u001B[39m \u001B[38;5;28;01mTrue\u001B[39;00m\n\u001B[0;32m  14477\u001B[0m \u001B[38;5;28mself\u001B[39m\u001B[38;5;241m.\u001B[39m_offset \u001B[38;5;241m=\u001B[39m \u001B[38;5;28mmax\u001B[39m(\u001B[38;5;241m0\u001B[39m, \u001B[38;5;28mself\u001B[39m\u001B[38;5;241m.\u001B[39m_offset)\n",
      "\u001B[1;31mFileNotFoundError\u001B[0m: [Errno 2] No such file or directory: 'E:\\\\BackgroundRemoval\\\\Channel3\\\\512data\\\\Training\\\\TestNoisy\\\\17.tif'"
     ]
    }
   ],
   "execution_count": 8
  },
  {
   "metadata": {
    "ExecuteTime": {
     "end_time": "2025-06-23T16:10:08.798393Z",
     "start_time": "2025-06-23T16:10:08.786396Z"
    }
   },
   "cell_type": "code",
   "source": [
    "PSNR = np.array(PSNR)\n",
    "print(PSNR.mean())"
   ],
   "id": "65c23a113fec5abb",
   "outputs": [
    {
     "name": "stdout",
     "output_type": "stream",
     "text": [
      "35.122353\n"
     ]
    }
   ],
   "execution_count": 9
  },
  {
   "metadata": {},
   "cell_type": "code",
   "outputs": [],
   "execution_count": null,
   "source": "",
   "id": "4ae8681335bb9798"
  }
 ],
 "metadata": {
  "kernelspec": {
   "display_name": "DL",
   "language": "python",
   "name": "dl"
  },
  "language_info": {
   "codemirror_mode": {
    "name": "ipython",
    "version": 3
   },
   "file_extension": ".py",
   "mimetype": "text/x-python",
   "name": "python",
   "nbconvert_exporter": "python",
   "pygments_lexer": "ipython3",
   "version": "3.10.13"
  }
 },
 "nbformat": 4,
 "nbformat_minor": 5
}
