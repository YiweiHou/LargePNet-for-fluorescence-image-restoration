{
 "cells": [
  {
   "metadata": {
    "ExecuteTime": {
     "end_time": "2025-06-24T05:58:56.072512Z",
     "start_time": "2025-06-24T05:58:53.781504Z"
    }
   },
   "cell_type": "code",
   "source": [
    "import numpy as np\n",
    "import torch\n",
    "import torch.nn as nn\n",
    "import torch.utils.data as Data\n",
    "import os\n",
    "import cv2\n",
    "import glob\n",
    "import torch\n",
    "from Models.LargePNet import *\n",
    "import tifffile\n",
    "from Utils.TrainerSTED import TrainerSTED\n",
    "import matplotlib.pyplot as plt\n",
    "from Utils.AppendLoad import *\n",
    "from Utils.DataAug2D import *"
   ],
   "id": "64005b69-db04-4a0b-a4ef-3e45d00eced9",
   "outputs": [
    {
     "name": "stderr",
     "output_type": "stream",
     "text": [
      "C:\\Users\\Dell\\.conda\\envs\\DL\\lib\\site-packages\\tqdm\\auto.py:21: TqdmWarning: IProgress not found. Please update jupyter and ipywidgets. See https://ipywidgets.readthedocs.io/en/stable/user_install.html\n",
      "  from .autonotebook import tqdm as notebook_tqdm\n"
     ]
    }
   ],
   "execution_count": 1
  },
  {
   "cell_type": "code",
   "id": "c5a13f16-4245-4940-bebe-97ad9c31c164",
   "metadata": {
    "ExecuteTime": {
     "end_time": "2025-06-24T06:00:10.742492Z",
     "start_time": "2025-06-24T06:00:09.547347Z"
    }
   },
   "source": [
    "# Load Raw .npz data\n",
    "Data_dir = r'F:\\Datasets\\STED_deblurring\\MitoInner\\Training'\n",
    "loaded_data = np.load(Data_dir + '\\MitoDeblurdata.npz')\n",
    "X_train = loaded_data['X_train']  \n",
    "y_train = loaded_data['y_train']\n",
    "X_val = loaded_data['X_val']\n",
    "y_val = loaded_data['y_val']\n",
    "log_dir = Data_dir + r'\\logfile'\n",
    "if not os.path.exists(log_dir):\n",
    "    os.mkdir(log_dir)\n",
    "# Create training and validation data\n",
    "X_train = torch.tensor(X_train, dtype = torch.float32).unsqueeze(1)\n",
    "y_train = torch.tensor(y_train, dtype = torch.float32).unsqueeze(1)\n",
    "X_val = torch.tensor(X_val, dtype = torch.float32).unsqueeze(1)\n",
    "y_val = torch.tensor(y_val, dtype = torch.float32).unsqueeze(1)\n",
    "print(X_train.shape)\n",
    "print(y_train.shape)\n",
    "\n",
    "''' Another loading method: load .tif image file\n",
    "head_dir = r\"D:\\SISR_Full\\CCP\"\n",
    "Training_GT_path = head_dir + '\\\\' + r'GT\\*.tif'\n",
    "Training_Raw_path = head_dir + '\\\\' + r'Noisy\\*.tif'\n",
    "Val_GT_path = head_dir + '\\\\' + r'ValGT\\*.tif'\n",
    "Val_Raw_path = head_dir + '\\\\' + r'ValNoisy\\*.tif'\n",
    "\n",
    "X_train = AppendLoad(Training_Raw_path)\n",
    "y_train = AppendLoad(Training_GT_path)\n",
    "X_val = AppendLoad(Val_Raw_path)\n",
    "y_val = AppendLoad(Val_GT_path)\n",
    "\n",
    "print(\"X_train.shape\",X_train.shape)\n",
    "print(\"y_train.shape\",y_train.shape)\n",
    "print(\"X_val.shape\",X_val.shape)\n",
    "print(\"y_val.shape\",y_val.shape)\n",
    "\n",
    "train_data = Data.TensorDataset(X_train,y_train)\n",
    "val_data = Data.TensorDataset(X_val,y_val)\n",
    "'''"
   ],
   "outputs": [
    {
     "name": "stdout",
     "output_type": "stream",
     "text": [
      "torch.Size([288, 1, 1024, 1024])\n",
      "torch.Size([288, 1, 1024, 1024])\n"
     ]
    },
    {
     "data": {
      "text/plain": [
       "' Another loading method: load .tif image file\\nhead_dir = r\"D:\\\\SISR_Full\\\\CCP\"\\nTraining_GT_path = head_dir + \\'\\\\\\' + r\\'GT\\\\*.tif\\'\\nTraining_Raw_path = head_dir + \\'\\\\\\' + r\\'Noisy\\\\*.tif\\'\\nVal_GT_path = head_dir + \\'\\\\\\' + r\\'ValGT\\\\*.tif\\'\\nVal_Raw_path = head_dir + \\'\\\\\\' + r\\'ValNoisy\\\\*.tif\\'\\n\\nX_train = AppendLoad(Training_Raw_path)\\ny_train = AppendLoad(Training_GT_path)\\nX_val = AppendLoad(Val_Raw_path)\\ny_val = AppendLoad(Val_GT_path)\\n\\nprint(\"X_train.shape\",X_train.shape)\\nprint(\"y_train.shape\",y_train.shape)\\nprint(\"X_val.shape\",X_val.shape)\\nprint(\"y_val.shape\",y_val.shape)\\n\\ntrain_data = Data.TensorDataset(X_train,y_train)\\nval_data = Data.TensorDataset(X_val,y_val)\\n'"
      ]
     },
     "execution_count": 5,
     "metadata": {},
     "output_type": "execute_result"
    }
   ],
   "execution_count": 5
  },
  {
   "metadata": {
    "ExecuteTime": {
     "end_time": "2025-06-24T06:00:28.610218Z",
     "start_time": "2025-06-24T06:00:10.759808Z"
    }
   },
   "cell_type": "code",
   "source": [
    "# Augment data\n",
    "img_num = X_train.shape[0]\n",
    "img_num_val = X_val.shape[0]\n",
    "wanted_num = 2000\n",
    "aimingsize = 512\n",
    "background_control_max = 0.05\n",
    "background_control_mean = 0.02 # typically 0.015-0.03\n",
    "\n",
    "X_train_expand = []\n",
    "y_train_expand = []\n",
    "X_val_expand = []\n",
    "y_val_expand = []\n",
    "crop_num = wanted_num // img_num\n",
    "\n",
    "count = 0\n",
    "for i in tqdm(range(img_num), desc=\"Processing images\"):  \n",
    "    raw = X_train[i,0,...]\n",
    "    gt = y_train[i,0,...]\n",
    "    raw = np.expand_dims(raw,axis=2)\n",
    "    gt = np.expand_dims(gt,axis=2)\n",
    "    for j in range (crop_num):\n",
    "        Augraw, Auggt = DataAug(raw,gt,aimingsize)\n",
    "        if Auggt.max()>background_control_max:\n",
    "            if Auggt.mean()>background_control_mean:\n",
    "                X_train_expand.append(Augraw.squeeze())\n",
    "                y_train_expand.append(Auggt.squeeze())\n",
    "                count = count + 1\n",
    "X_train = np.array(X_train_expand)\n",
    "y_train = np.array(y_train_expand)\n",
    "\n",
    "count = 0\n",
    "for i in tqdm(range(img_num_val), desc=\"Processing images\"):  \n",
    "    raw = X_val[i,0,...]\n",
    "    gt = y_val[i,0,...]\n",
    "    raw = np.expand_dims(raw,axis=2)\n",
    "    gt = np.expand_dims(gt,axis=2)\n",
    "    for j in range (crop_num//2):\n",
    "        Augraw, Auggt = DataAug(raw,gt,aimingsize)\n",
    "        if Auggt.max()>background_control_max:\n",
    "            if Auggt.mean()>background_control_mean:\n",
    "                X_val_expand.append(Augraw.squeeze())\n",
    "                y_val_expand.append(Auggt.squeeze())\n",
    "                count = count + 1\n",
    "X_val = np.array(X_val_expand)\n",
    "y_val = np.array(y_val_expand)\n",
    "\n",
    "X_train = torch.tensor(X_train, dtype = torch.float16).unsqueeze(1)\n",
    "y_train = torch.tensor(y_train, dtype = torch.float16).unsqueeze(1)\n",
    "X_val = torch.tensor(X_val, dtype = torch.float16).unsqueeze(1)\n",
    "y_val = torch.tensor(y_val, dtype = torch.float16).unsqueeze(1)\n",
    "\n",
    "print(X_train.shape)\n",
    "print(y_train.shape)\n",
    "\n",
    "train_data = Data.TensorDataset(X_train,y_train)\n",
    "val_data = Data.TensorDataset(X_val,y_val)"
   ],
   "id": "f20c7adbb2b85ebe",
   "outputs": [
    {
     "name": "stderr",
     "output_type": "stream",
     "text": [
      "Processing images: 100%|██████████| 288/288 [00:12<00:00, 23.61it/s]\n",
      "Processing images: 100%|██████████| 48/48 [00:01<00:00, 44.77it/s]\n"
     ]
    },
    {
     "name": "stdout",
     "output_type": "stream",
     "text": [
      "torch.Size([1584, 1, 512, 512])\n",
      "torch.Size([1584, 1, 512, 512])\n"
     ]
    }
   ],
   "execution_count": 6
  },
  {
   "cell_type": "code",
   "id": "9de67448-d1a1-4c09-ba2d-b90bbb352d72",
   "metadata": {
    "ExecuteTime": {
     "end_time": "2025-06-24T06:00:55.547852Z",
     "start_time": "2025-06-24T06:00:55.530851Z"
    }
   },
   "source": [
    " class Options:  \n",
    "    def __init__(self):  \n",
    "        self.LR = 0.001\n",
    "        self.batchsize = 1 \n",
    "        self.epoch_num = 50 \n",
    "        self.MSE_weight = 1\n",
    "        self.MAE_weight = 0.05 \n",
    "        self.SSIM_weight = 0 \n",
    "        self.epoch_critic = 10 \n",
    "        self.useinit = 0\n",
    "        self.pre_epoch = 0\n",
    "        self.ModelType = 1   \n",
    "        self.StepLR = 1\n",
    "        self.ExpoLR = 0\n",
    "        self.val = 1\n",
    "        self.test = 0\n",
    "        self.use_dir =0\n",
    "        self.use_norm = 1\n",
    "        self.test_data_dir = ''\n",
    "        self.innerpoint = []\n",
    "        self.instanceimage = ''\n",
    "opt = Options()"
   ],
   "outputs": [],
   "execution_count": 9
  },
  {
   "cell_type": "code",
   "id": "1d0c7e5b-84db-4366-8d03-09d114967602",
   "metadata": {
    "jupyter": {
     "is_executing": true
    },
    "ExecuteTime": {
     "start_time": "2025-06-24T06:00:56.232775Z"
    }
   },
   "source": [
    "model = LargePNet(1,1,1,25,4)\n",
    "save_path = Data_dir +r'\\logfile\\MINet'\n",
    "TrainerSTED(model, train_data, val_data, save_path, opt)"
   ],
   "outputs": [
    {
     "name": "stdout",
     "output_type": "stream",
     "text": [
      "drop path: Identity()\n",
      "drop path: Identity()\n",
      "drop path: Identity()\n",
      "0\n"
     ]
    },
    {
     "name": "stderr",
     "output_type": "stream",
     "text": [
      "Training epoch:  19%|█▉        | 301/1584 [01:59<07:34,  2.82it/s, Epoch: 1, Loss: 0.002253551036119461] "
     ]
    }
   ],
   "execution_count": null
  },
  {
   "metadata": {},
   "cell_type": "code",
   "outputs": [],
   "execution_count": null,
   "source": "",
   "id": "61636dcccb2425dc"
  }
 ],
 "metadata": {
  "kernelspec": {
   "display_name": "DL",
   "language": "python",
   "name": "dl"
  },
  "language_info": {
   "codemirror_mode": {
    "name": "ipython",
    "version": 3
   },
   "file_extension": ".py",
   "mimetype": "text/x-python",
   "name": "python",
   "nbconvert_exporter": "python",
   "pygments_lexer": "ipython3",
   "version": "3.10.13"
  }
 },
 "nbformat": 4,
 "nbformat_minor": 5
}
